{
 "cells": [
  {
   "cell_type": "markdown",
   "id": "7326fad1",
   "metadata": {},
   "source": [
    "# Set\n",
    "\n",
    "**Good points about sets in Python:**\n",
    "\n",
    "1. Sets are very efficient for checking whether an item is contained in the set or not. This is known as `membership testing` and has an average time complexity of O(1).\n",
    "2. Sets are unordered collections of unique elements, which means that duplicates are automatically removed. This can be useful for tasks such as removing duplicates from a list.\n",
    "3. Sets can be used to perform mathematical set operations such as union, intersection, and difference.\n",
    "4. Sets in Python are mutable and support various methods such as add, remove, and clear.\n",
    "5. Sets in python are implemented using hash tables making them very fast for most operations\n",
    "\n",
    "**Bad points about sets in Python:**\n",
    "\n",
    "1. Sets are unordered collections which means they don't have any indices. So you can't access the elements by their index.\n",
    "2. Sets elements are immutable, which means you cannot change an element once it has been added to the set.\n",
    "3. Sets don't support slicing or concatenation.\n",
    "4. Sets have a slightly more complex syntax than lists or tuples.\n",
    "5. Sets are not suitable for storing elements that are unhashable, such as dicts or lists."
   ]
  },
  {
   "cell_type": "code",
   "execution_count": 3,
   "id": "63c3a45f",
   "metadata": {},
   "outputs": [
    {
     "data": {
      "text/plain": [
       "{1, 2, 3, 4}"
      ]
     },
     "execution_count": 3,
     "metadata": {},
     "output_type": "execute_result"
    }
   ],
   "source": [
    "my_set = {1, 2, 2, 3, 4}\n",
    "my_set"
   ]
  },
  {
   "cell_type": "code",
   "execution_count": 4,
   "id": "d3f21d5f",
   "metadata": {},
   "outputs": [
    {
     "name": "stdout",
     "output_type": "stream",
     "text": [
      "Employee IDs: {1001, 1002, 1003, 1004, 1005}\n"
     ]
    }
   ],
   "source": [
    "# creating set of integers\n",
    "employee_ids = {1001, 1002, 1003, 1004, 1005}\n",
    "print(f'Employee IDs: {employee_ids}')"
   ]
  },
  {
   "cell_type": "code",
   "execution_count": 5,
   "id": "7bcc4769",
   "metadata": {},
   "outputs": [
    {
     "name": "stdout",
     "output_type": "stream",
     "text": [
      "<class 'set'>\n"
     ]
    }
   ],
   "source": [
    "print(type(employee_ids))"
   ]
  },
  {
   "cell_type": "code",
   "execution_count": 10,
   "id": "4cce8867",
   "metadata": {},
   "outputs": [
    {
     "name": "stdout",
     "output_type": "stream",
     "text": [
      "yes\n"
     ]
    }
   ],
   "source": [
    "if type(employee_ids) == set:\n",
    "    print('yes')"
   ]
  },
  {
   "cell_type": "code",
   "execution_count": 11,
   "id": "7134ff47",
   "metadata": {},
   "outputs": [
    {
     "name": "stdout",
     "output_type": "stream",
     "text": [
      "Alphabets: {'D', 'C', 'B', 'A'}\n"
     ]
    }
   ],
   "source": [
    "# creating set of strings\n",
    "string_set = {'A', 'B', 'C', 'D'}\n",
    "print(f'Alphabets: {string_set}')"
   ]
  },
  {
   "cell_type": "code",
   "execution_count": 12,
   "id": "5eb56b04",
   "metadata": {},
   "outputs": [
    {
     "name": "stdout",
     "output_type": "stream",
     "text": [
      "Mixed Set: {None, 1, 3.0, 'hi'}\n"
     ]
    }
   ],
   "source": [
    "# creating a set of mixed data types\n",
    "mixed_set = {1, 3.0, 'hi', True, None}\n",
    "print(f'Mixed Set: {mixed_set}')"
   ]
  },
  {
   "cell_type": "code",
   "execution_count": 15,
   "id": "67e2c011",
   "metadata": {},
   "outputs": [],
   "source": [
    "# dict or set?\n",
    "empty_dict = {}"
   ]
  },
  {
   "cell_type": "code",
   "execution_count": 16,
   "id": "2cfb7199",
   "metadata": {},
   "outputs": [
    {
     "name": "stdout",
     "output_type": "stream",
     "text": [
      "<class 'dict'>\n"
     ]
    }
   ],
   "source": [
    "print(type(empty_dict))"
   ]
  },
  {
   "cell_type": "code",
   "execution_count": 17,
   "id": "e274aa4e",
   "metadata": {},
   "outputs": [
    {
     "name": "stdout",
     "output_type": "stream",
     "text": [
      "<class 'set'>\n"
     ]
    }
   ],
   "source": [
    "# create an empty set\n",
    "empty_set = set()\n",
    "print(type(empty_set))"
   ]
  },
  {
   "cell_type": "code",
   "execution_count": 18,
   "id": "18618ec5",
   "metadata": {},
   "outputs": [
    {
     "data": {
      "text/plain": [
       "{21, 43, 56, 67, 89}"
      ]
     },
     "execution_count": 18,
     "metadata": {},
     "output_type": "execute_result"
    }
   ],
   "source": [
    "numbers = {21, 67, 89, 43, 56}\n",
    "numbers"
   ]
  },
  {
   "cell_type": "code",
   "execution_count": 19,
   "id": "7c4d6427",
   "metadata": {},
   "outputs": [
    {
     "data": {
      "text/plain": [
       "{21, 43, 45, 56, 67, 89}"
      ]
     },
     "execution_count": 19,
     "metadata": {},
     "output_type": "execute_result"
    }
   ],
   "source": [
    "# add item to set\n",
    "numbers.add(45)\n",
    "numbers"
   ]
  },
  {
   "cell_type": "code",
   "execution_count": 20,
   "id": "e7f89a33",
   "metadata": {},
   "outputs": [
    {
     "data": {
      "text/plain": [
       "{21, 43, 45, 56, 67, 89, 98}"
      ]
     },
     "execution_count": 20,
     "metadata": {},
     "output_type": "execute_result"
    }
   ],
   "source": [
    "# add item to set\n",
    "numbers.add(98)\n",
    "numbers"
   ]
  },
  {
   "cell_type": "code",
   "execution_count": 21,
   "id": "bd90a24d",
   "metadata": {},
   "outputs": [
    {
     "data": {
      "text/plain": [
       "[53, 26, 76, 66]"
      ]
     },
     "execution_count": 21,
     "metadata": {},
     "output_type": "execute_result"
    }
   ],
   "source": [
    "nums = [53, 26, 76, 66]\n",
    "nums"
   ]
  },
  {
   "cell_type": "code",
   "execution_count": 22,
   "id": "efefdf8d",
   "metadata": {},
   "outputs": [
    {
     "data": {
      "text/plain": [
       "{21, 26, 43, 45, 53, 56, 66, 67, 76, 89, 98}"
      ]
     },
     "execution_count": 22,
     "metadata": {},
     "output_type": "execute_result"
    }
   ],
   "source": [
    "numbers.update(nums)\n",
    "numbers"
   ]
  },
  {
   "cell_type": "code",
   "execution_count": 23,
   "id": "1a5d654f",
   "metadata": {},
   "outputs": [
    {
     "data": {
      "text/plain": [
       "{21, 26, 43, 45, 53, 56, 67, 76, 89, 98}"
      ]
     },
     "execution_count": 23,
     "metadata": {},
     "output_type": "execute_result"
    }
   ],
   "source": [
    "# removing element from a set\n",
    "numbers.discard(66)\n",
    "numbers"
   ]
  },
  {
   "cell_type": "code",
   "execution_count": 24,
   "id": "b1c71399",
   "metadata": {},
   "outputs": [
    {
     "ename": "TypeError",
     "evalue": "unsupported operand type(s) for +: 'set' and 'set'",
     "output_type": "error",
     "traceback": [
      "\u001b[0;31m---------------------------------------------------------------------------\u001b[0m",
      "\u001b[0;31mTypeError\u001b[0m                                 Traceback (most recent call last)",
      "Cell \u001b[0;32mIn[24], line 1\u001b[0m\n\u001b[0;32m----> 1\u001b[0m numbers \u001b[38;5;241m=\u001b[39m \u001b[43mnumbers\u001b[49m\u001b[43m \u001b[49m\u001b[38;5;241;43m+\u001b[39;49m\u001b[43m \u001b[49m\u001b[43m{\u001b[49m\u001b[38;5;241;43m1\u001b[39;49m\u001b[43m,\u001b[49m\u001b[43m \u001b[49m\u001b[38;5;241;43m2\u001b[39;49m\u001b[43m,\u001b[49m\u001b[43m \u001b[49m\u001b[38;5;241;43m3\u001b[39;49m\u001b[43m}\u001b[49m\n\u001b[1;32m      2\u001b[0m numbers\n",
      "\u001b[0;31mTypeError\u001b[0m: unsupported operand type(s) for +: 'set' and 'set'"
     ]
    }
   ],
   "source": [
    "numbers = numbers + {1, 2, 3}\n",
    "numbers"
   ]
  },
  {
   "cell_type": "code",
   "execution_count": 25,
   "id": "5a4ae3e3",
   "metadata": {},
   "outputs": [
    {
     "data": {
      "text/plain": [
       "{1, 2, 3, 21, 26, 43, 45, 53, 56, 67, 76, 89, 98}"
      ]
     },
     "execution_count": 25,
     "metadata": {},
     "output_type": "execute_result"
    }
   ],
   "source": [
    "numbers.update({1, 2, 3})\n",
    "numbers"
   ]
  },
  {
   "cell_type": "code",
   "execution_count": 30,
   "id": "9791c4d5",
   "metadata": {},
   "outputs": [],
   "source": [
    "my_list = [1, 3, 3, 5, 5, 6, 7, 8, 8, 9, 9, 2, 3, 4, 11, 'a', 'b']"
   ]
  },
  {
   "cell_type": "code",
   "execution_count": 31,
   "id": "5007e243",
   "metadata": {},
   "outputs": [
    {
     "data": {
      "text/plain": [
       "[1, 2, 3, 4, 5, 6, 7, 8, 9, 'b', 11, 'a']"
      ]
     },
     "execution_count": 31,
     "metadata": {},
     "output_type": "execute_result"
    }
   ],
   "source": [
    "wo_diplicates = list(set(my_list))\n",
    "wo_diplicates"
   ]
  },
  {
   "cell_type": "code",
   "execution_count": 32,
   "id": "7e37315b",
   "metadata": {},
   "outputs": [
    {
     "name": "stdout",
     "output_type": "stream",
     "text": [
      "mango\n",
      "apple\n",
      "peach\n",
      "banana\n"
     ]
    }
   ],
   "source": [
    "fruits = {'apple', 'mango', 'banana', 'peach'}\n",
    "\n",
    "for fruit in fruits:\n",
    "    print(fruit)"
   ]
  },
  {
   "cell_type": "code",
   "execution_count": 33,
   "id": "b5ffae24",
   "metadata": {},
   "outputs": [
    {
     "name": "stdout",
     "output_type": "stream",
     "text": [
      "0 mango\n",
      "1 apple\n",
      "2 peach\n",
      "3 banana\n"
     ]
    }
   ],
   "source": [
    "for index, fruit in enumerate(fruits):\n",
    "    print(index, fruit)"
   ]
  },
  {
   "cell_type": "code",
   "execution_count": 37,
   "id": "0e6c20e4",
   "metadata": {},
   "outputs": [],
   "source": [
    "A = {1, 6, 8, 5}\n",
    "B = {0, 5, 3, 4}"
   ]
  },
  {
   "cell_type": "code",
   "execution_count": 38,
   "id": "829e7820",
   "metadata": {},
   "outputs": [
    {
     "data": {
      "text/plain": [
       "{0, 1, 3, 4, 5, 6, 8}"
      ]
     },
     "execution_count": 38,
     "metadata": {},
     "output_type": "execute_result"
    }
   ],
   "source": [
    "# union\n",
    "A | B"
   ]
  },
  {
   "cell_type": "code",
   "execution_count": 39,
   "id": "c27e3a49",
   "metadata": {},
   "outputs": [
    {
     "data": {
      "text/plain": [
       "{0, 1, 3, 4, 5, 6, 8}"
      ]
     },
     "execution_count": 39,
     "metadata": {},
     "output_type": "execute_result"
    }
   ],
   "source": [
    "A.union(B)"
   ]
  },
  {
   "cell_type": "code",
   "execution_count": 40,
   "id": "0f7285c4",
   "metadata": {},
   "outputs": [
    {
     "data": {
      "text/plain": [
       "{5}"
      ]
     },
     "execution_count": 40,
     "metadata": {},
     "output_type": "execute_result"
    }
   ],
   "source": [
    "# intersection\n",
    "A & B"
   ]
  },
  {
   "cell_type": "code",
   "execution_count": 41,
   "id": "c2be0c1b",
   "metadata": {},
   "outputs": [
    {
     "data": {
      "text/plain": [
       "{5}"
      ]
     },
     "execution_count": 41,
     "metadata": {},
     "output_type": "execute_result"
    }
   ],
   "source": [
    "A.intersection(B)"
   ]
  },
  {
   "cell_type": "code",
   "execution_count": 42,
   "id": "787dcc0a",
   "metadata": {},
   "outputs": [
    {
     "data": {
      "text/plain": [
       "{1, 6, 8}"
      ]
     },
     "execution_count": 42,
     "metadata": {},
     "output_type": "execute_result"
    }
   ],
   "source": [
    "# Difference\n",
    "A - B"
   ]
  },
  {
   "cell_type": "code",
   "execution_count": 43,
   "id": "302297a7",
   "metadata": {},
   "outputs": [
    {
     "data": {
      "text/plain": [
       "{0, 3, 4}"
      ]
     },
     "execution_count": 43,
     "metadata": {},
     "output_type": "execute_result"
    }
   ],
   "source": [
    "B - A"
   ]
  },
  {
   "cell_type": "code",
   "execution_count": 44,
   "id": "13efa158",
   "metadata": {},
   "outputs": [
    {
     "data": {
      "text/plain": [
       "{0, 1, 3, 4, 6, 8}"
      ]
     },
     "execution_count": 44,
     "metadata": {},
     "output_type": "execute_result"
    }
   ],
   "source": [
    "# symmetric difference\n",
    "A ^ B"
   ]
  },
  {
   "cell_type": "code",
   "execution_count": 45,
   "id": "f8a9624f",
   "metadata": {},
   "outputs": [
    {
     "data": {
      "text/plain": [
       "{0, 1, 3, 4, 6, 8}"
      ]
     },
     "execution_count": 45,
     "metadata": {},
     "output_type": "execute_result"
    }
   ],
   "source": [
    "A.symmetric_difference(B)"
   ]
  }
 ],
 "metadata": {
  "kernelspec": {
   "display_name": "Python 3 (ipykernel)",
   "language": "python",
   "name": "python3"
  },
  "language_info": {
   "codemirror_mode": {
    "name": "ipython",
    "version": 3
   },
   "file_extension": ".py",
   "mimetype": "text/x-python",
   "name": "python",
   "nbconvert_exporter": "python",
   "pygments_lexer": "ipython3",
   "version": "3.11.1"
  }
 },
 "nbformat": 4,
 "nbformat_minor": 5
}
