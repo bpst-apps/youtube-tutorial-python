{
 "cells": [
  {
   "cell_type": "code",
   "execution_count": 1,
   "id": "5f81848e",
   "metadata": {},
   "outputs": [],
   "source": [
    "# creating an empty dictionary\n",
    "my_dict = {}"
   ]
  },
  {
   "cell_type": "code",
   "execution_count": 2,
   "id": "4ac7ac55",
   "metadata": {},
   "outputs": [
    {
     "data": {
      "text/plain": [
       "{'name': 'Bhanu', 'age': 32, 'city': 'Bangalore'}"
      ]
     },
     "execution_count": 2,
     "metadata": {},
     "output_type": "execute_result"
    }
   ],
   "source": [
    "# creating a dictionary with initial values\n",
    "my_dict = {'name': 'Bhanu', 'age': 32, 'city': 'Bangalore'}\n",
    "my_dict"
   ]
  },
  {
   "cell_type": "code",
   "execution_count": 3,
   "id": "499c846e",
   "metadata": {},
   "outputs": [
    {
     "data": {
      "text/plain": [
       "{'name': 'John', 'age': 25, 'city': 'London'}"
      ]
     },
     "execution_count": 3,
     "metadata": {},
     "output_type": "execute_result"
    }
   ],
   "source": [
    "# creating a dictionary using the dict() constructor\n",
    "my_dict = dict(name='John', age=25, city='London')\n",
    "my_dict"
   ]
  },
  {
   "cell_type": "markdown",
   "id": "1ddc2fae",
   "metadata": {},
   "source": [
    "### Access value using key"
   ]
  },
  {
   "cell_type": "code",
   "execution_count": 4,
   "id": "1a698c34",
   "metadata": {},
   "outputs": [
    {
     "data": {
      "text/plain": [
       "'John'"
      ]
     },
     "execution_count": 4,
     "metadata": {},
     "output_type": "execute_result"
    }
   ],
   "source": [
    "my_dict['name']"
   ]
  },
  {
   "cell_type": "code",
   "execution_count": 5,
   "id": "18ac43d5",
   "metadata": {},
   "outputs": [
    {
     "data": {
      "text/plain": [
       "25"
      ]
     },
     "execution_count": 5,
     "metadata": {},
     "output_type": "execute_result"
    }
   ],
   "source": [
    "my_dict['age']"
   ]
  },
  {
   "cell_type": "code",
   "execution_count": 6,
   "id": "099a5528",
   "metadata": {},
   "outputs": [
    {
     "data": {
      "text/plain": [
       "'London'"
      ]
     },
     "execution_count": 6,
     "metadata": {},
     "output_type": "execute_result"
    }
   ],
   "source": [
    "my_dict['city']"
   ]
  },
  {
   "cell_type": "code",
   "execution_count": 7,
   "id": "bcfdcb83",
   "metadata": {},
   "outputs": [
    {
     "data": {
      "text/plain": [
       "{'name': 'John', 'age': 25, 'marks': {'math': 90, 'science': 98}}"
      ]
     },
     "execution_count": 7,
     "metadata": {},
     "output_type": "execute_result"
    }
   ],
   "source": [
    "my_dict = {'name': 'John', 'age': 25, 'marks': {'math': 90, 'science': 98}}\n",
    "my_dict"
   ]
  },
  {
   "cell_type": "code",
   "execution_count": 9,
   "id": "da73e0b9",
   "metadata": {},
   "outputs": [
    {
     "data": {
      "text/plain": [
       "98"
      ]
     },
     "execution_count": 9,
     "metadata": {},
     "output_type": "execute_result"
    }
   ],
   "source": [
    "my_dict['marks']['science']"
   ]
  },
  {
   "cell_type": "code",
   "execution_count": 10,
   "id": "0f56d09f",
   "metadata": {},
   "outputs": [
    {
     "data": {
      "text/plain": [
       "{'name': 'John',\n",
       " 'age': 25,\n",
       " 'marks': {'finals': {'math': 90, 'science': 98},\n",
       "  'pre-finals': {'math': 94, 'science': 94}}}"
      ]
     },
     "execution_count": 10,
     "metadata": {},
     "output_type": "execute_result"
    }
   ],
   "source": [
    "my_dict = {'name': 'John', 'age': 25, \n",
    "           'marks': {'finals': {'math': 90, 'science': 98}, \n",
    "                     'pre-finals': {'math': 94, 'science': 94}}}\n",
    "my_dict"
   ]
  },
  {
   "cell_type": "code",
   "execution_count": 13,
   "id": "950854cc",
   "metadata": {},
   "outputs": [
    {
     "data": {
      "text/plain": [
       "94"
      ]
     },
     "execution_count": 13,
     "metadata": {},
     "output_type": "execute_result"
    }
   ],
   "source": [
    "my_dict['marks']['pre-finals']['math']"
   ]
  },
  {
   "cell_type": "code",
   "execution_count": 15,
   "id": "58c1a8c3",
   "metadata": {},
   "outputs": [
    {
     "data": {
      "text/plain": [
       "dict_keys(['name', 'age', 'marks'])"
      ]
     },
     "execution_count": 15,
     "metadata": {},
     "output_type": "execute_result"
    }
   ],
   "source": [
    "my_dict.keys()"
   ]
  },
  {
   "cell_type": "code",
   "execution_count": 16,
   "id": "ce505c80",
   "metadata": {},
   "outputs": [
    {
     "data": {
      "text/plain": [
       "dict_values(['John', 25, {'finals': {'math': 90, 'science': 98}, 'pre-finals': {'math': 94, 'science': 94}}])"
      ]
     },
     "execution_count": 16,
     "metadata": {},
     "output_type": "execute_result"
    }
   ],
   "source": [
    "my_dict.values()"
   ]
  },
  {
   "cell_type": "code",
   "execution_count": 17,
   "id": "35d0f632",
   "metadata": {},
   "outputs": [
    {
     "data": {
      "text/plain": [
       "dict_items([('name', 'John'), ('age', 25), ('marks', {'finals': {'math': 90, 'science': 98}, 'pre-finals': {'math': 94, 'science': 94}})])"
      ]
     },
     "execution_count": 17,
     "metadata": {},
     "output_type": "execute_result"
    }
   ],
   "source": [
    "my_dict.items()"
   ]
  },
  {
   "cell_type": "code",
   "execution_count": 18,
   "id": "3c2bf5e5",
   "metadata": {},
   "outputs": [
    {
     "data": {
      "text/plain": [
       "{'name': 'John',\n",
       " 'age': 25,\n",
       " 'marks': {'finals': {'math': 90, 'science': 98},\n",
       "  'pre-finals': {'math': 94, 'science': 94}}}"
      ]
     },
     "execution_count": 18,
     "metadata": {},
     "output_type": "execute_result"
    }
   ],
   "source": [
    "my_dict"
   ]
  },
  {
   "cell_type": "code",
   "execution_count": 19,
   "id": "4c903687",
   "metadata": {},
   "outputs": [
    {
     "data": {
      "text/plain": [
       "{'name': 'John',\n",
       " 'age': 25,\n",
       " 'marks': {'finals': {'math': 90, 'science': 98},\n",
       "  'pre-finals': {'math': 94, 'science': 94}},\n",
       " 'gender': 'Male'}"
      ]
     },
     "execution_count": 19,
     "metadata": {},
     "output_type": "execute_result"
    }
   ],
   "source": [
    "# adding an item to the dictionary\n",
    "my_dict['gender'] = 'Male'\n",
    "my_dict"
   ]
  },
  {
   "cell_type": "code",
   "execution_count": 20,
   "id": "8f411063",
   "metadata": {},
   "outputs": [
    {
     "data": {
      "text/plain": [
       "{'name': 'John',\n",
       " 'age': 25,\n",
       " 'marks': {'finals': {'math': 90, 'science': 98},\n",
       "  'pre-finals': {'math': 94, 'science': 94}},\n",
       " 'gender': 'Male',\n",
       " 'city': 'London'}"
      ]
     },
     "execution_count": 20,
     "metadata": {},
     "output_type": "execute_result"
    }
   ],
   "source": [
    "# adding an item to the dictionary\n",
    "my_dict['city'] = 'London'\n",
    "my_dict"
   ]
  },
  {
   "cell_type": "code",
   "execution_count": 21,
   "id": "c87a5703",
   "metadata": {},
   "outputs": [
    {
     "data": {
      "text/plain": [
       "{'name': 'John',\n",
       " 'age': 25,\n",
       " 'marks': {'finals': {'math': 90, 'science': 98},\n",
       "  'pre-finals': {'math': 94, 'science': 94}},\n",
       " 'gender': 'Male',\n",
       " 'city': 'New York'}"
      ]
     },
     "execution_count": 21,
     "metadata": {},
     "output_type": "execute_result"
    }
   ],
   "source": [
    "# modifying an item in the dictionary\n",
    "my_dict['city'] = 'New York'\n",
    "my_dict"
   ]
  },
  {
   "cell_type": "code",
   "execution_count": 22,
   "id": "7022a275",
   "metadata": {},
   "outputs": [
    {
     "data": {
      "text/plain": [
       "{'name': 'John',\n",
       " 'age': 25,\n",
       " 'marks': {'finals': {'math': 90, 'science': 98},\n",
       "  'pre-finals': {'math': 94, 'science': 94}},\n",
       " 'gender': 'Male'}"
      ]
     },
     "execution_count": 22,
     "metadata": {},
     "output_type": "execute_result"
    }
   ],
   "source": [
    "# Delete item from the dictionary\n",
    "del my_dict['city']\n",
    "my_dict"
   ]
  },
  {
   "cell_type": "code",
   "execution_count": 23,
   "id": "687d88bd",
   "metadata": {},
   "outputs": [
    {
     "data": {
      "text/plain": [
       "{'New York': [{'name': 'John', 'age': 25, 'city': 'New York'},\n",
       "  {'name': 'Bob', 'age': 35, 'city': 'New York'}],\n",
       " 'Chicago': [{'name': 'Jane', 'age': 30, 'city': 'Chicago'}]}"
      ]
     },
     "execution_count": 23,
     "metadata": {},
     "output_type": "execute_result"
    }
   ],
   "source": [
    "my_list = [{'name': 'John', 'age': 25, 'city': 'New York'},\n",
    "          {'name': 'Jane', 'age': 30, 'city': 'Chicago'},\n",
    "          {'name': 'Bob', 'age': 35, 'city': 'New York'}]\n",
    "\n",
    "group_by_city = {}\n",
    "\n",
    "for item in my_list:\n",
    "    if item['city'] in group_by_city:\n",
    "        group_by_city[item['city']].append(item)\n",
    "    else:\n",
    "        group_by_city[item['city']] = [item]\n",
    "        \n",
    "group_by_city"
   ]
  },
  {
   "cell_type": "code",
   "execution_count": 25,
   "id": "1166bb9e",
   "metadata": {},
   "outputs": [
    {
     "name": "stdout",
     "output_type": "stream",
     "text": [
      "name\n",
      "age\n",
      "marks\n",
      "gender\n"
     ]
    }
   ],
   "source": [
    "for key in my_dict.keys():\n",
    "    print(key)"
   ]
  },
  {
   "cell_type": "code",
   "execution_count": 26,
   "id": "8f13ff0d",
   "metadata": {},
   "outputs": [
    {
     "name": "stdout",
     "output_type": "stream",
     "text": [
      "John\n",
      "25\n",
      "{'finals': {'math': 90, 'science': 98}, 'pre-finals': {'math': 94, 'science': 94}}\n",
      "Male\n"
     ]
    }
   ],
   "source": [
    "for value in my_dict.values():\n",
    "    print(value)"
   ]
  },
  {
   "cell_type": "code",
   "execution_count": 27,
   "id": "5d2bcda0",
   "metadata": {},
   "outputs": [
    {
     "name": "stdout",
     "output_type": "stream",
     "text": [
      "name John\n",
      "age 25\n",
      "marks {'finals': {'math': 90, 'science': 98}, 'pre-finals': {'math': 94, 'science': 94}}\n",
      "gender Male\n"
     ]
    }
   ],
   "source": [
    "for key, value in my_dict.items():\n",
    "    print(key, value)"
   ]
  },
  {
   "cell_type": "markdown",
   "id": "968fcada",
   "metadata": {},
   "source": [
    "### using `iter()`"
   ]
  },
  {
   "cell_type": "code",
   "execution_count": 28,
   "id": "cd8505f6",
   "metadata": {},
   "outputs": [
    {
     "name": "stdout",
     "output_type": "stream",
     "text": [
      "name\n"
     ]
    }
   ],
   "source": [
    "key_iterator = iter(my_dict)\n",
    "print(next(key_iterator))"
   ]
  },
  {
   "cell_type": "code",
   "execution_count": 29,
   "id": "ba50e5d6",
   "metadata": {},
   "outputs": [
    {
     "name": "stdout",
     "output_type": "stream",
     "text": [
      "age\n"
     ]
    }
   ],
   "source": [
    "print(next(key_iterator))"
   ]
  },
  {
   "cell_type": "code",
   "execution_count": 30,
   "id": "907cc70d",
   "metadata": {},
   "outputs": [
    {
     "name": "stdout",
     "output_type": "stream",
     "text": [
      "marks\n"
     ]
    }
   ],
   "source": [
    "print(next(key_iterator))"
   ]
  },
  {
   "cell_type": "code",
   "execution_count": 31,
   "id": "e792a9cd",
   "metadata": {},
   "outputs": [
    {
     "name": "stdout",
     "output_type": "stream",
     "text": [
      "gender\n"
     ]
    }
   ],
   "source": [
    "print(next(key_iterator))"
   ]
  },
  {
   "cell_type": "code",
   "execution_count": 32,
   "id": "20252c78",
   "metadata": {},
   "outputs": [
    {
     "ename": "StopIteration",
     "evalue": "",
     "output_type": "error",
     "traceback": [
      "\u001b[0;31m---------------------------------------------------------------------------\u001b[0m",
      "\u001b[0;31mStopIteration\u001b[0m                             Traceback (most recent call last)",
      "Cell \u001b[0;32mIn[32], line 1\u001b[0m\n\u001b[0;32m----> 1\u001b[0m \u001b[38;5;28mprint\u001b[39m(\u001b[38;5;28;43mnext\u001b[39;49m\u001b[43m(\u001b[49m\u001b[43mkey_iterator\u001b[49m\u001b[43m)\u001b[49m)\n",
      "\u001b[0;31mStopIteration\u001b[0m: "
     ]
    }
   ],
   "source": [
    "print(next(key_iterator))"
   ]
  },
  {
   "cell_type": "code",
   "execution_count": 33,
   "id": "ab54a2ab",
   "metadata": {},
   "outputs": [
    {
     "name": "stdout",
     "output_type": "stream",
     "text": [
      "John\n"
     ]
    }
   ],
   "source": [
    "value_iterator = iter(my_dict.values())\n",
    "print(next(value_iterator))"
   ]
  },
  {
   "cell_type": "code",
   "execution_count": 34,
   "id": "bce4209b",
   "metadata": {},
   "outputs": [
    {
     "name": "stdout",
     "output_type": "stream",
     "text": [
      "25\n",
      "{'finals': {'math': 90, 'science': 98}, 'pre-finals': {'math': 94, 'science': 94}}\n",
      "Male\n"
     ]
    }
   ],
   "source": [
    "print(next(value_iterator))\n",
    "print(next(value_iterator))\n",
    "print(next(value_iterator))"
   ]
  },
  {
   "cell_type": "code",
   "execution_count": 35,
   "id": "4a8c23f5",
   "metadata": {},
   "outputs": [
    {
     "name": "stdout",
     "output_type": "stream",
     "text": [
      "0 name John\n",
      "1 age 25\n",
      "2 marks {'finals': {'math': 90, 'science': 98}, 'pre-finals': {'math': 94, 'science': 94}}\n",
      "3 gender Male\n"
     ]
    }
   ],
   "source": [
    "for index, (key, value) in enumerate(my_dict.items()):\n",
    "    print(index, key, value)"
   ]
  },
  {
   "cell_type": "markdown",
   "id": "7f68d023",
   "metadata": {},
   "source": [
    "### while loop"
   ]
  },
  {
   "cell_type": "code",
   "execution_count": 36,
   "id": "ff6346c8",
   "metadata": {},
   "outputs": [
    {
     "name": "stdout",
     "output_type": "stream",
     "text": [
      "name\n",
      "age\n",
      "marks\n",
      "gender\n"
     ]
    }
   ],
   "source": [
    "key_iterator = iter(my_dict)\n",
    "\n",
    "while True:\n",
    "    try:\n",
    "        key = next(key_iterator)\n",
    "        print(key)\n",
    "        if key == 'gender':\n",
    "            break\n",
    "    except StopIteration:\n",
    "        break"
   ]
  },
  {
   "cell_type": "code",
   "execution_count": 40,
   "id": "81cf5b60",
   "metadata": {},
   "outputs": [
    {
     "name": "stdout",
     "output_type": "stream",
     "text": [
      "a c\n",
      "b d\n"
     ]
    }
   ],
   "source": [
    "dict_1 = {'a': 1, 'b': 2}\n",
    "dict_2 = {'c': 3, 'd': 4}\n",
    "\n",
    "for key_1, key_2 in zip(dict_1, dict_2):\n",
    "    print(key_1, key_2)"
   ]
  },
  {
   "cell_type": "code",
   "execution_count": 41,
   "id": "11c75138",
   "metadata": {},
   "outputs": [],
   "source": [
    "# {key:value for ...}"
   ]
  },
  {
   "cell_type": "code",
   "execution_count": 42,
   "id": "2bc76ce9",
   "metadata": {},
   "outputs": [
    {
     "data": {
      "text/plain": [
       "{'A': 1,\n",
       " 'B': 2,\n",
       " 'C': 3,\n",
       " 'D': 4,\n",
       " 'E': 5,\n",
       " 'F': 6,\n",
       " 'G': 7,\n",
       " 'H': 8,\n",
       " 'I': 9,\n",
       " 'J': 10,\n",
       " 'K': 11}"
      ]
     },
     "execution_count": 42,
     "metadata": {},
     "output_type": "execute_result"
    }
   ],
   "source": [
    "keys = ['A','B','C','D','E','F','G','H','I','J','K']\n",
    "values = [1, 2, 3, 4, 5, 6, 7, 8, 9, 10, 11]\n",
    "\n",
    "{key : value for key, value in zip(keys, values)}"
   ]
  },
  {
   "cell_type": "code",
   "execution_count": 46,
   "id": "14c4e2d5",
   "metadata": {},
   "outputs": [
    {
     "data": {
      "text/plain": [
       "{1: 10, 2: 20, 3: 30, 4: 40, 5: 50, 6: 60, 7: 70, 8: 80, 9: 90, 10: 100}"
      ]
     },
     "execution_count": 46,
     "metadata": {},
     "output_type": "execute_result"
    }
   ],
   "source": [
    "{val_1: val_1 * val_2 for val_1 in range(1,11) for val_2 in range(1, 11)}"
   ]
  },
  {
   "cell_type": "code",
   "execution_count": 47,
   "id": "8827888c",
   "metadata": {},
   "outputs": [
    {
     "data": {
      "text/plain": [
       "{'a': 1, 'b': 4, 'c': 9, 'd': 16}"
      ]
     },
     "execution_count": 47,
     "metadata": {},
     "output_type": "execute_result"
    }
   ],
   "source": [
    "original_dict = {'a': 1, 'b': 2, 'c': 3, 'd': 4}\n",
    "square_dict = {key : value ** 2 for key, value in original_dict.items()}\n",
    "square_dict"
   ]
  },
  {
   "cell_type": "markdown",
   "id": "a9f97684",
   "metadata": {},
   "source": [
    "## Text Processing Example"
   ]
  },
  {
   "cell_type": "code",
   "execution_count": 48,
   "id": "85f4ea85",
   "metadata": {},
   "outputs": [
    {
     "data": {
      "text/plain": [
       "'BJP MP Tejasvi Surya was the passenger who opened the emergency door of an IndiGo aircraft, aviation minister Jyotiraditya Scindia confirmed on January 18. Reports earlier had suggested that a passenger had opened the emergency exit of the IndiGo plane after boarding at Chennai airport last month, after which the aircraft was subject to mandatory engineering checks before it flew to Tiruchirapalli. The passenger in question was allegedly Surya, according to media reports. However, IndiGo and the aviation regulator had refused to confirm whether Surya was the passenger involved. The incident occurred while the aircraft was on the ground, Scindia said, adding that Surya accidentally opened the emergency gate and reported it to the crew. The minister said the Lok Sabha MP from Bengaluru South constituency apologised for the incident and for the delay caused before the flight took off.'"
      ]
     },
     "execution_count": 48,
     "metadata": {},
     "output_type": "execute_result"
    }
   ],
   "source": [
    "text = 'BJP MP Tejasvi Surya was the passenger who opened the emergency door of an IndiGo aircraft, aviation minister Jyotiraditya Scindia confirmed on January 18. Reports earlier had suggested that a passenger had opened the emergency exit of the IndiGo plane after boarding at Chennai airport last month, after which the aircraft was subject to mandatory engineering checks before it flew to Tiruchirapalli. The passenger in question was allegedly Surya, according to media reports. However, IndiGo and the aviation regulator had refused to confirm whether Surya was the passenger involved. The incident occurred while the aircraft was on the ground, Scindia said, adding that Surya accidentally opened the emergency gate and reported it to the crew. The minister said the Lok Sabha MP from Bengaluru South constituency apologised for the incident and for the delay caused before the flight took off.'\n",
    "text"
   ]
  },
  {
   "cell_type": "code",
   "execution_count": 49,
   "id": "0f1d5b0c",
   "metadata": {
    "scrolled": true
   },
   "outputs": [
    {
     "data": {
      "text/plain": [
       "{'BJP': 1,\n",
       " 'MP': 2,\n",
       " 'Tejasvi': 1,\n",
       " 'Surya': 3,\n",
       " 'was': 5,\n",
       " 'the': 15,\n",
       " 'passenger': 4,\n",
       " 'who': 1,\n",
       " 'opened': 3,\n",
       " 'emergency': 3,\n",
       " 'door': 1,\n",
       " 'of': 2,\n",
       " 'an': 1,\n",
       " 'IndiGo': 3,\n",
       " 'aircraft,': 1,\n",
       " 'aviation': 2,\n",
       " 'minister': 2,\n",
       " 'Jyotiraditya': 1,\n",
       " 'Scindia': 2,\n",
       " 'confirmed': 1,\n",
       " 'on': 2,\n",
       " 'January': 1,\n",
       " '18.': 1,\n",
       " 'Reports': 1,\n",
       " 'earlier': 1,\n",
       " 'had': 3,\n",
       " 'suggested': 1,\n",
       " 'that': 2,\n",
       " 'a': 1,\n",
       " 'exit': 1,\n",
       " 'plane': 1,\n",
       " 'after': 2,\n",
       " 'boarding': 1,\n",
       " 'at': 1,\n",
       " 'Chennai': 1,\n",
       " 'airport': 1,\n",
       " 'last': 1,\n",
       " 'month,': 1,\n",
       " 'which': 1,\n",
       " 'aircraft': 2,\n",
       " 'subject': 1,\n",
       " 'to': 5,\n",
       " 'mandatory': 1,\n",
       " 'engineering': 1,\n",
       " 'checks': 1,\n",
       " 'before': 2,\n",
       " 'it': 2,\n",
       " 'flew': 1,\n",
       " 'Tiruchirapalli.': 1,\n",
       " 'The': 3,\n",
       " 'in': 1,\n",
       " 'question': 1,\n",
       " 'allegedly': 1,\n",
       " 'Surya,': 1,\n",
       " 'according': 1,\n",
       " 'media': 1,\n",
       " 'reports.': 1,\n",
       " 'However,': 1,\n",
       " 'and': 3,\n",
       " 'regulator': 1,\n",
       " 'refused': 1,\n",
       " 'confirm': 1,\n",
       " 'whether': 1,\n",
       " 'involved.': 1,\n",
       " 'incident': 2,\n",
       " 'occurred': 1,\n",
       " 'while': 1,\n",
       " 'ground,': 1,\n",
       " 'said,': 1,\n",
       " 'adding': 1,\n",
       " 'accidentally': 1,\n",
       " 'gate': 1,\n",
       " 'reported': 1,\n",
       " 'crew.': 1,\n",
       " 'said': 1,\n",
       " 'Lok': 1,\n",
       " 'Sabha': 1,\n",
       " 'from': 1,\n",
       " 'Bengaluru': 1,\n",
       " 'South': 1,\n",
       " 'constituency': 1,\n",
       " 'apologised': 1,\n",
       " 'for': 2,\n",
       " 'delay': 1,\n",
       " 'caused': 1,\n",
       " 'flight': 1,\n",
       " 'took': 1,\n",
       " 'off.': 1}"
      ]
     },
     "execution_count": 49,
     "metadata": {},
     "output_type": "execute_result"
    }
   ],
   "source": [
    "# count frequency of the words in text\n",
    "word_freq = {}\n",
    "for word in text.split():\n",
    "    if word in word_freq:\n",
    "        word_freq[word] += 1\n",
    "    else:\n",
    "        word_freq[word] = 1\n",
    "        \n",
    "word_freq"
   ]
  },
  {
   "cell_type": "code",
   "execution_count": 53,
   "id": "65ecb89b",
   "metadata": {},
   "outputs": [
    {
     "data": {
      "text/plain": [
       "[3, 5, 15, 4, 3, 3, 3, 3, 5, 3, 3]"
      ]
     },
     "execution_count": 53,
     "metadata": {},
     "output_type": "execute_result"
    }
   ],
   "source": [
    "list(filter(lambda x: x if x > 2 else 0, word_freq.values()))"
   ]
  }
 ],
 "metadata": {
  "kernelspec": {
   "display_name": "Python 3 (ipykernel)",
   "language": "python",
   "name": "python3"
  },
  "language_info": {
   "codemirror_mode": {
    "name": "ipython",
    "version": 3
   },
   "file_extension": ".py",
   "mimetype": "text/x-python",
   "name": "python",
   "nbconvert_exporter": "python",
   "pygments_lexer": "ipython3",
   "version": "3.11.1"
  }
 },
 "nbformat": 4,
 "nbformat_minor": 5
}
