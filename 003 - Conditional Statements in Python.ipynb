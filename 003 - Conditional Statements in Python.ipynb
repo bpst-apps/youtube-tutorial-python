{
 "cells": [
  {
   "cell_type": "code",
   "execution_count": 1,
   "id": "811584e8",
   "metadata": {},
   "outputs": [],
   "source": [
    "# if - else statement\n",
    "# syntax\n",
    "\n",
    "# if condition:\n",
    "#     # code to execute if condition is true\n",
    "# else:\n",
    "#     # code to execute if condition is false"
   ]
  },
  {
   "cell_type": "code",
   "execution_count": 2,
   "id": "f99a0ba0",
   "metadata": {},
   "outputs": [
    {
     "name": "stdout",
     "output_type": "stream",
     "text": [
      "x is positive number\n"
     ]
    }
   ],
   "source": [
    "x = 10\n",
    "\n",
    "if x > 0:\n",
    "    print('x is positive number')\n",
    "else:\n",
    "    print('x is negative number')"
   ]
  },
  {
   "cell_type": "code",
   "execution_count": 3,
   "id": "6032b30f",
   "metadata": {},
   "outputs": [],
   "source": [
    "# if - elif - else statement\n",
    "# syntax\n",
    "\n",
    "# if condition1:\n",
    "#     # code to execute if condition1 is true\n",
    "# elif condition2:\n",
    "#     # code to execute if condition2 is true\n",
    "# else:\n",
    "#     # code to execute if condition is false"
   ]
  },
  {
   "cell_type": "code",
   "execution_count": 4,
   "id": "7b3daeca",
   "metadata": {},
   "outputs": [
    {
     "name": "stdout",
     "output_type": "stream",
     "text": [
      "x is negative number\n"
     ]
    }
   ],
   "source": [
    "x = -10\n",
    "\n",
    "if x > 0:\n",
    "    print('x is positive number')\n",
    "elif x < 0:\n",
    "    print('x is negative number')\n",
    "else:\n",
    "    print('x is zero')"
   ]
  },
  {
   "cell_type": "code",
   "execution_count": 5,
   "id": "a4104fd3",
   "metadata": {},
   "outputs": [
    {
     "name": "stdout",
     "output_type": "stream",
     "text": [
      "x is positive number\n"
     ]
    }
   ],
   "source": [
    "x = 10\n",
    "\n",
    "if x > 0:\n",
    "    print('x is positive number')\n",
    "elif x < 0:\n",
    "    print('x is negative number')\n",
    "else:\n",
    "    print('x is zero')"
   ]
  },
  {
   "cell_type": "code",
   "execution_count": 6,
   "id": "5cc98921",
   "metadata": {},
   "outputs": [
    {
     "name": "stdout",
     "output_type": "stream",
     "text": [
      "x is zero\n"
     ]
    }
   ],
   "source": [
    "x = 0\n",
    "\n",
    "if x > 0:\n",
    "    print('x is positive number')\n",
    "elif x < 0:\n",
    "    print('x is negative number')\n",
    "else:\n",
    "    print('x is zero')"
   ]
  },
  {
   "cell_type": "code",
   "execution_count": 7,
   "id": "7425d6dd",
   "metadata": {},
   "outputs": [],
   "source": [
    "# nested if - else statement\n",
    "# syntax\n",
    "\n",
    "# if condition1:\n",
    "#     # code to execute if condition1 is true\n",
    "#     if condition2:\n",
    "#         # code to execute if condition2 is true\n",
    "#     else:\n",
    "#         # code to execute if condition2 is false\n",
    "# else:\n",
    "#     # code to execute if condition1 is false"
   ]
  },
  {
   "cell_type": "code",
   "execution_count": 8,
   "id": "483f9215",
   "metadata": {},
   "outputs": [
    {
     "name": "stdout",
     "output_type": "stream",
     "text": [
      "x and y are both positive numbers\n"
     ]
    }
   ],
   "source": [
    "x = 4\n",
    "y = 11\n",
    "\n",
    "if x > 0:\n",
    "    if y > 0:\n",
    "        print('x and y are both positive numbers')\n",
    "    else:\n",
    "        print('x is positive number and y is not positive number')\n",
    "else:\n",
    "    print('x is not positive number')"
   ]
  },
  {
   "cell_type": "code",
   "execution_count": 9,
   "id": "2db4d033",
   "metadata": {},
   "outputs": [],
   "source": [
    "# ternary operator\n",
    "# syntax\n",
    "\n",
    "# variable = true_value if condition else false_value"
   ]
  },
  {
   "cell_type": "code",
   "execution_count": 10,
   "id": "c9e35937",
   "metadata": {},
   "outputs": [
    {
     "data": {
      "text/plain": [
       "'x is negative'"
      ]
     },
     "execution_count": 10,
     "metadata": {},
     "output_type": "execute_result"
    }
   ],
   "source": [
    "x = -5\n",
    "\n",
    "result = 'x is positive' if x > 0 else 'x is negative'\n",
    "result"
   ]
  },
  {
   "cell_type": "code",
   "execution_count": 11,
   "id": "18b20f62",
   "metadata": {},
   "outputs": [
    {
     "data": {
      "text/plain": [
       "'x is positive'"
      ]
     },
     "execution_count": 11,
     "metadata": {},
     "output_type": "execute_result"
    }
   ],
   "source": [
    "x = 5\n",
    "\n",
    "result = 'x is positive' if x > 0 else 'x is negative'\n",
    "result"
   ]
  },
  {
   "cell_type": "code",
   "execution_count": null,
   "id": "3fceec01",
   "metadata": {},
   "outputs": [],
   "source": []
  }
 ],
 "metadata": {
  "kernelspec": {
   "display_name": "Python 3 (ipykernel)",
   "language": "python",
   "name": "python3"
  },
  "language_info": {
   "codemirror_mode": {
    "name": "ipython",
    "version": 3
   },
   "file_extension": ".py",
   "mimetype": "text/x-python",
   "name": "python",
   "nbconvert_exporter": "python",
   "pygments_lexer": "ipython3",
   "version": "3.11.1"
  }
 },
 "nbformat": 4,
 "nbformat_minor": 5
}
