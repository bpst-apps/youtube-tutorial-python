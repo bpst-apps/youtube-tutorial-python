{
 "cells": [
  {
   "cell_type": "markdown",
   "id": "bc71ca77",
   "metadata": {},
   "source": [
    "## Functions in Python\n",
    "1. Built-in Functions\n",
    "2. User-defined Functions\n",
    "3. Anonymous Functions (Lambda Functions)\n",
    "4. Recursive Functions\n",
    "5. High-order Functions"
   ]
  },
  {
   "cell_type": "markdown",
   "id": "e673bd56",
   "metadata": {},
   "source": [
    "### Built-in Functions"
   ]
  },
  {
   "cell_type": "code",
   "execution_count": 1,
   "id": "aa46215f",
   "metadata": {},
   "outputs": [
    {
     "name": "stdout",
     "output_type": "stream",
     "text": [
      "hey there\n"
     ]
    }
   ],
   "source": [
    "print('hey there')"
   ]
  },
  {
   "cell_type": "code",
   "execution_count": 2,
   "id": "20147b78",
   "metadata": {},
   "outputs": [
    {
     "data": {
      "text/plain": [
       "9"
      ]
     },
     "execution_count": 2,
     "metadata": {},
     "output_type": "execute_result"
    }
   ],
   "source": [
    "len('hhhhhhhhh')"
   ]
  },
  {
   "cell_type": "code",
   "execution_count": 3,
   "id": "aeb5d9c3",
   "metadata": {},
   "outputs": [
    {
     "data": {
      "text/plain": [
       "int"
      ]
     },
     "execution_count": 3,
     "metadata": {},
     "output_type": "execute_result"
    }
   ],
   "source": [
    "type(1)"
   ]
  },
  {
   "cell_type": "code",
   "execution_count": 4,
   "id": "39aca4f2",
   "metadata": {},
   "outputs": [],
   "source": [
    "numbers = [1, 2, 3, 4, 5]"
   ]
  },
  {
   "cell_type": "code",
   "execution_count": 5,
   "id": "e0b4560a",
   "metadata": {},
   "outputs": [
    {
     "data": {
      "text/plain": [
       "1"
      ]
     },
     "execution_count": 5,
     "metadata": {},
     "output_type": "execute_result"
    }
   ],
   "source": [
    "min(numbers)"
   ]
  },
  {
   "cell_type": "code",
   "execution_count": 6,
   "id": "89c9fe16",
   "metadata": {},
   "outputs": [
    {
     "data": {
      "text/plain": [
       "5"
      ]
     },
     "execution_count": 6,
     "metadata": {},
     "output_type": "execute_result"
    }
   ],
   "source": [
    "max(numbers)"
   ]
  },
  {
   "cell_type": "code",
   "execution_count": 7,
   "id": "a8a90d45",
   "metadata": {},
   "outputs": [
    {
     "data": {
      "text/plain": [
       "15"
      ]
     },
     "execution_count": 7,
     "metadata": {},
     "output_type": "execute_result"
    }
   ],
   "source": [
    "sum(numbers)"
   ]
  },
  {
   "cell_type": "markdown",
   "id": "e8f6c027",
   "metadata": {},
   "source": [
    "### User-defined Functions"
   ]
  },
  {
   "cell_type": "code",
   "execution_count": 8,
   "id": "b5863343",
   "metadata": {},
   "outputs": [],
   "source": [
    "def greet(name):\n",
    "    print(f'hello, {name}')"
   ]
  },
  {
   "cell_type": "code",
   "execution_count": 9,
   "id": "07dd02d2",
   "metadata": {},
   "outputs": [
    {
     "name": "stdout",
     "output_type": "stream",
     "text": [
      "hello, bhanu\n"
     ]
    }
   ],
   "source": [
    "greet('bhanu')"
   ]
  },
  {
   "cell_type": "code",
   "execution_count": 10,
   "id": "2f3998a2",
   "metadata": {},
   "outputs": [],
   "source": [
    "def greet(name='bhanu'):\n",
    "    print(f'hello, {name}')"
   ]
  },
  {
   "cell_type": "code",
   "execution_count": 11,
   "id": "8059eed5",
   "metadata": {},
   "outputs": [
    {
     "name": "stdout",
     "output_type": "stream",
     "text": [
      "hello, bhanu\n"
     ]
    }
   ],
   "source": [
    "greet()"
   ]
  },
  {
   "cell_type": "code",
   "execution_count": 12,
   "id": "87673e92",
   "metadata": {},
   "outputs": [
    {
     "name": "stdout",
     "output_type": "stream",
     "text": [
      "hello, test\n"
     ]
    }
   ],
   "source": [
    "greet(name='test')"
   ]
  },
  {
   "cell_type": "code",
   "execution_count": 13,
   "id": "342be271",
   "metadata": {},
   "outputs": [
    {
     "data": {
      "text/plain": [
       "11"
      ]
     },
     "execution_count": 13,
     "metadata": {},
     "output_type": "execute_result"
    }
   ],
   "source": [
    "def add(a, b):\n",
    "    return a + b\n",
    "\n",
    "result = add(7, 4)\n",
    "result"
   ]
  },
  {
   "cell_type": "code",
   "execution_count": 14,
   "id": "e0506229",
   "metadata": {},
   "outputs": [
    {
     "data": {
      "text/plain": [
       "31"
      ]
     },
     "execution_count": 14,
     "metadata": {},
     "output_type": "execute_result"
    }
   ],
   "source": [
    "result = add(17, 14)\n",
    "result"
   ]
  },
  {
   "cell_type": "code",
   "execution_count": 15,
   "id": "a942b4da",
   "metadata": {},
   "outputs": [
    {
     "data": {
      "text/plain": [
       "4.0"
      ]
     },
     "execution_count": 15,
     "metadata": {},
     "output_type": "execute_result"
    }
   ],
   "source": [
    "def find_average(numbers):\n",
    "    return sum(numbers)/len(numbers)\n",
    "\n",
    "\n",
    "nums = [1, 2, 3, 4, 5, 6, 7]\n",
    "average = find_average(nums)\n",
    "average"
   ]
  },
  {
   "cell_type": "code",
   "execution_count": 16,
   "id": "c5ad9ba9",
   "metadata": {},
   "outputs": [
    {
     "data": {
      "text/plain": [
       "'HELLO, ALL'"
      ]
     },
     "execution_count": 16,
     "metadata": {},
     "output_type": "execute_result"
    }
   ],
   "source": [
    "def to_uppercase(string):\n",
    "    return string.upper()\n",
    "\n",
    "\n",
    "original_string = 'hello, all'\n",
    "upper_string = to_uppercase(original_string)\n",
    "upper_string"
   ]
  },
  {
   "cell_type": "code",
   "execution_count": 17,
   "id": "cdc85f3b",
   "metadata": {},
   "outputs": [],
   "source": [
    "def add_all(*args):\n",
    "    return sum(args)"
   ]
  },
  {
   "cell_type": "code",
   "execution_count": 18,
   "id": "2705506b",
   "metadata": {},
   "outputs": [
    {
     "data": {
      "text/plain": [
       "30"
      ]
     },
     "execution_count": 18,
     "metadata": {},
     "output_type": "execute_result"
    }
   ],
   "source": [
    "result = add_all(1, 3, 5, 6, 7, 8)\n",
    "result"
   ]
  },
  {
   "cell_type": "code",
   "execution_count": 19,
   "id": "a46774bf",
   "metadata": {},
   "outputs": [],
   "source": [
    "def add_all(*bhanu):\n",
    "    return sum(bhanu)"
   ]
  },
  {
   "cell_type": "code",
   "execution_count": 20,
   "id": "34fea403",
   "metadata": {},
   "outputs": [
    {
     "data": {
      "text/plain": [
       "39"
      ]
     },
     "execution_count": 20,
     "metadata": {},
     "output_type": "execute_result"
    }
   ],
   "source": [
    "add_all(1, 3, 5, 6, 7, 8, 9)"
   ]
  },
  {
   "cell_type": "code",
   "execution_count": 21,
   "id": "8fda0fcc",
   "metadata": {},
   "outputs": [],
   "source": [
    "def create_dict(**kwargs):\n",
    "    return kwargs"
   ]
  },
  {
   "cell_type": "code",
   "execution_count": 22,
   "id": "aceb6265",
   "metadata": {},
   "outputs": [
    {
     "data": {
      "text/plain": [
       "{'a': 1, 'b': 2, 'c': 3, 'd': 4}"
      ]
     },
     "execution_count": 22,
     "metadata": {},
     "output_type": "execute_result"
    }
   ],
   "source": [
    "my_dict = create_dict(a=1, b=2, c=3, d=4)\n",
    "my_dict"
   ]
  },
  {
   "cell_type": "code",
   "execution_count": 23,
   "id": "5fe99c84",
   "metadata": {},
   "outputs": [],
   "source": [
    "def create_student_record(name, age, **kwargs):\n",
    "    record = {\n",
    "        'name': name,\n",
    "        'age': age,\n",
    "        'grades': kwargs\n",
    "    }\n",
    "    return record"
   ]
  },
  {
   "cell_type": "code",
   "execution_count": 24,
   "id": "095529c2",
   "metadata": {},
   "outputs": [
    {
     "data": {
      "text/plain": [
       "{'name': 'Tom H',\n",
       " 'age': 25,\n",
       " 'grades': {'math': 90, 'english': 95, 'science': 89}}"
      ]
     },
     "execution_count": 24,
     "metadata": {},
     "output_type": "execute_result"
    }
   ],
   "source": [
    "student_record = create_student_record(\n",
    "    'Tom H',\n",
    "    25,\n",
    "    math=90,\n",
    "    english=95,\n",
    "    science=89\n",
    ")\n",
    "student_record"
   ]
  },
  {
   "cell_type": "code",
   "execution_count": 25,
   "id": "16c72307",
   "metadata": {},
   "outputs": [
    {
     "data": {
      "text/plain": [
       "{'name': 'John C', 'age': 30, 'grades': {'physics': 90, 'chemistry': 95}}"
      ]
     },
     "execution_count": 25,
     "metadata": {},
     "output_type": "execute_result"
    }
   ],
   "source": [
    "student_record = create_student_record(\n",
    "    'John C',\n",
    "    30,\n",
    "    physics=90,\n",
    "    chemistry=95\n",
    ")\n",
    "student_record"
   ]
  },
  {
   "cell_type": "markdown",
   "id": "4a6d043c",
   "metadata": {},
   "source": [
    "### Anonymous Functions (Lambda Functions)"
   ]
  },
  {
   "cell_type": "code",
   "execution_count": 26,
   "id": "58c8ef02",
   "metadata": {},
   "outputs": [],
   "source": [
    "# Syntax\n",
    "# store_name = lambda <parameter>: <function_body>"
   ]
  },
  {
   "cell_type": "code",
   "execution_count": 27,
   "id": "3c8684c5",
   "metadata": {},
   "outputs": [],
   "source": [
    "def add(x, y):\n",
    "    return x + y"
   ]
  },
  {
   "cell_type": "code",
   "execution_count": 28,
   "id": "7400d598",
   "metadata": {},
   "outputs": [],
   "source": [
    "add = lambda x, y: x + y"
   ]
  },
  {
   "cell_type": "code",
   "execution_count": 29,
   "id": "f40e6f16",
   "metadata": {},
   "outputs": [
    {
     "data": {
      "text/plain": [
       "3"
      ]
     },
     "execution_count": 29,
     "metadata": {},
     "output_type": "execute_result"
    }
   ],
   "source": [
    "add(1,2)"
   ]
  },
  {
   "cell_type": "code",
   "execution_count": 30,
   "id": "75993bb8",
   "metadata": {},
   "outputs": [
    {
     "data": {
      "text/plain": [
       "25"
      ]
     },
     "execution_count": 30,
     "metadata": {},
     "output_type": "execute_result"
    }
   ],
   "source": [
    "square = lambda x: x ** 2\n",
    "square(5)"
   ]
  },
  {
   "cell_type": "code",
   "execution_count": 32,
   "id": "8a38f635",
   "metadata": {},
   "outputs": [
    {
     "data": {
      "text/plain": [
       "30"
      ]
     },
     "execution_count": 32,
     "metadata": {},
     "output_type": "execute_result"
    }
   ],
   "source": [
    "multipy = lambda x, y: x * y\n",
    "multipy(5, 6)"
   ]
  },
  {
   "cell_type": "code",
   "execution_count": 33,
   "id": "f7b99f84",
   "metadata": {},
   "outputs": [
    {
     "data": {
      "text/plain": [
       "['HELLO', 'THERE']"
      ]
     },
     "execution_count": 33,
     "metadata": {},
     "output_type": "execute_result"
    }
   ],
   "source": [
    "['hello', 'there'] # input\n",
    "['HELLO', 'THERE'] # output"
   ]
  },
  {
   "cell_type": "code",
   "execution_count": 34,
   "id": "9ee74d69",
   "metadata": {},
   "outputs": [
    {
     "data": {
      "text/plain": [
       "['HELLO', 'THERE']"
      ]
     },
     "execution_count": 34,
     "metadata": {},
     "output_type": "execute_result"
    }
   ],
   "source": [
    "make_upper = lambda strings: [string.upper() for string in strings]\n",
    "original_string = ['hello', 'there']\n",
    "make_upper(original_string)"
   ]
  },
  {
   "cell_type": "markdown",
   "id": "5887800d",
   "metadata": {},
   "source": [
    "### Recursive Functions\n",
    "* base case defined"
   ]
  },
  {
   "cell_type": "code",
   "execution_count": null,
   "id": "b03c6d6d",
   "metadata": {},
   "outputs": [],
   "source": [
    "# 5! = 5 x 4 x 3 x 2 x 1"
   ]
  },
  {
   "cell_type": "code",
   "execution_count": null,
   "id": "212924a8",
   "metadata": {},
   "outputs": [],
   "source": [
    "# n! = n x (n - 1) x (n - 2) x ... x 1"
   ]
  },
  {
   "cell_type": "code",
   "execution_count": 51,
   "id": "1684a87d",
   "metadata": {},
   "outputs": [],
   "source": [
    "def factorial(n):\n",
    "    if n == 1:\n",
    "        return 1\n",
    "    print(n)\n",
    "    return n * factorial(n - 1)"
   ]
  },
  {
   "cell_type": "code",
   "execution_count": 52,
   "id": "457db7e5",
   "metadata": {},
   "outputs": [
    {
     "name": "stdout",
     "output_type": "stream",
     "text": [
      "5\n",
      "4\n",
      "3\n",
      "2\n"
     ]
    },
    {
     "data": {
      "text/plain": [
       "120"
      ]
     },
     "execution_count": 52,
     "metadata": {},
     "output_type": "execute_result"
    }
   ],
   "source": [
    "factorial(5)"
   ]
  },
  {
   "cell_type": "markdown",
   "id": "5649349b",
   "metadata": {},
   "source": [
    "### High-order Functions"
   ]
  },
  {
   "cell_type": "code",
   "execution_count": 53,
   "id": "81e19b3b",
   "metadata": {},
   "outputs": [],
   "source": [
    "def apply_twice(func, arg):\n",
    "    return func(func(arg))\n",
    "\n",
    "def add_ten(x):\n",
    "    return x + 10"
   ]
  },
  {
   "cell_type": "code",
   "execution_count": 54,
   "id": "491c8127",
   "metadata": {},
   "outputs": [
    {
     "data": {
      "text/plain": [
       "30"
      ]
     },
     "execution_count": 54,
     "metadata": {},
     "output_type": "execute_result"
    }
   ],
   "source": [
    "apply_twice(add_ten, 10)"
   ]
  },
  {
   "cell_type": "code",
   "execution_count": 55,
   "id": "ad129576",
   "metadata": {},
   "outputs": [],
   "source": [
    "def apply_function(func, num):\n",
    "    return func(num)"
   ]
  },
  {
   "cell_type": "code",
   "execution_count": 56,
   "id": "28d50887",
   "metadata": {},
   "outputs": [
    {
     "data": {
      "text/plain": [
       "20"
      ]
     },
     "execution_count": 56,
     "metadata": {},
     "output_type": "execute_result"
    }
   ],
   "source": [
    "apply_function(add_ten, 10)"
   ]
  },
  {
   "cell_type": "code",
   "execution_count": 57,
   "id": "87eb8fa8",
   "metadata": {},
   "outputs": [
    {
     "data": {
      "text/plain": [
       "[1, 4, 9, 16, 25]"
      ]
     },
     "execution_count": 57,
     "metadata": {},
     "output_type": "execute_result"
    }
   ],
   "source": [
    "def apply_to_list(nums, func):\n",
    "    return [func(num) for num in nums]\n",
    "\n",
    "def square(x):\n",
    "    return x ** 2\n",
    "\n",
    "nums = [1, 2, 3, 4, 5]\n",
    "squared_nums = apply_to_list(nums, square)\n",
    "squared_nums"
   ]
  },
  {
   "cell_type": "markdown",
   "id": "a0758bd4",
   "metadata": {},
   "source": [
    "#### `map()` Function"
   ]
  },
  {
   "cell_type": "code",
   "execution_count": 58,
   "id": "40fc2208",
   "metadata": {},
   "outputs": [
    {
     "data": {
      "text/plain": [
       "[1, 2, 3, 4, 5]"
      ]
     },
     "execution_count": 58,
     "metadata": {},
     "output_type": "execute_result"
    }
   ],
   "source": [
    "nums"
   ]
  },
  {
   "cell_type": "code",
   "execution_count": 60,
   "id": "549daa56",
   "metadata": {},
   "outputs": [
    {
     "data": {
      "text/plain": [
       "[1, 4, 9, 16, 25]"
      ]
     },
     "execution_count": 60,
     "metadata": {},
     "output_type": "execute_result"
    }
   ],
   "source": [
    "squared_nums = map(square, nums)\n",
    "list(squared_nums)"
   ]
  },
  {
   "cell_type": "code",
   "execution_count": 61,
   "id": "caa996e5",
   "metadata": {},
   "outputs": [
    {
     "data": {
      "text/plain": [
       "[1, 4, 9, 16, 25]"
      ]
     },
     "execution_count": 61,
     "metadata": {},
     "output_type": "execute_result"
    }
   ],
   "source": [
    "squared_nums = map(lambda x: x ** 2, nums)\n",
    "list(squared_nums)"
   ]
  },
  {
   "cell_type": "code",
   "execution_count": 62,
   "id": "d101ee9e",
   "metadata": {},
   "outputs": [
    {
     "data": {
      "text/plain": [
       "['HELLO', 'THERE']"
      ]
     },
     "execution_count": 62,
     "metadata": {},
     "output_type": "execute_result"
    }
   ],
   "source": [
    "words = ['hello', 'there']\n",
    "uppercase_words = map(str.upper, words)\n",
    "list(uppercase_words)"
   ]
  },
  {
   "cell_type": "code",
   "execution_count": 63,
   "id": "f65c6888",
   "metadata": {},
   "outputs": [
    {
     "data": {
      "text/plain": [
       "[5, 7, 9]"
      ]
     },
     "execution_count": 63,
     "metadata": {},
     "output_type": "execute_result"
    }
   ],
   "source": [
    "nums_1 = [1, 2, 3]\n",
    "nums_2 = [4, 5, 6]\n",
    "\n",
    "result = map(lambda x, y: x + y, nums_1, nums_2)\n",
    "list(result)"
   ]
  },
  {
   "cell_type": "markdown",
   "id": "48533674",
   "metadata": {},
   "source": [
    "#### `filter()` Function"
   ]
  },
  {
   "cell_type": "code",
   "execution_count": 64,
   "id": "6f6edeeb",
   "metadata": {},
   "outputs": [
    {
     "data": {
      "text/plain": [
       "[2, 4, 6, 8, 10]"
      ]
     },
     "execution_count": 64,
     "metadata": {},
     "output_type": "execute_result"
    }
   ],
   "source": [
    "nums = [1, 2, 3, 4, 5, 6, 7 , 8 , 9, 10]\n",
    "even_nums = filter(lambda x: x%2 == 0, nums)\n",
    "list(even_nums)"
   ]
  },
  {
   "cell_type": "code",
   "execution_count": 66,
   "id": "85f682da",
   "metadata": {},
   "outputs": [
    {
     "data": {
      "text/plain": [
       "['apple', 'Avocado']"
      ]
     },
     "execution_count": 66,
     "metadata": {},
     "output_type": "execute_result"
    }
   ],
   "source": [
    "fruits = ['apple', 'banana', 'orange', 'Avocado', 'mango']\n",
    "a_fruits = filter(lambda x: x[0] in ['a', 'A'], fruits)\n",
    "list(a_fruits)"
   ]
  },
  {
   "cell_type": "code",
   "execution_count": 67,
   "id": "11314710",
   "metadata": {},
   "outputs": [
    {
     "data": {
      "text/plain": [
       "['python', 'programming']"
      ]
     },
     "execution_count": 67,
     "metadata": {},
     "output_type": "execute_result"
    }
   ],
   "source": [
    "# filter condition\n",
    "def is_long_word(word):\n",
    "    return len(word) > 5\n",
    "\n",
    "words = ['hello', 'world', 'python', 'programming']\n",
    "long_words = filter(is_long_word, words)\n",
    "list(long_words)"
   ]
  },
  {
   "cell_type": "markdown",
   "id": "7414a47d",
   "metadata": {},
   "source": [
    "#### `reduce()` Function"
   ]
  },
  {
   "cell_type": "code",
   "execution_count": 68,
   "id": "dddf87e9",
   "metadata": {},
   "outputs": [
    {
     "data": {
      "text/plain": [
       "[1, 2, 3, 4, 5, 6, 7, 8, 9, 10]"
      ]
     },
     "execution_count": 68,
     "metadata": {},
     "output_type": "execute_result"
    }
   ],
   "source": [
    "nums"
   ]
  },
  {
   "cell_type": "code",
   "execution_count": 70,
   "id": "bbdd5a89",
   "metadata": {},
   "outputs": [
    {
     "data": {
      "text/plain": [
       "120"
      ]
     },
     "execution_count": 70,
     "metadata": {},
     "output_type": "execute_result"
    }
   ],
   "source": [
    "from functools import reduce\n",
    "\n",
    "nums = [1, 2, 3, 4, 5]\n",
    "product = reduce(lambda x, y: x * y, nums)\n",
    "product"
   ]
  },
  {
   "cell_type": "code",
   "execution_count": 72,
   "id": "f4113739",
   "metadata": {},
   "outputs": [],
   "source": [
    "words = ['hello', ' ', 'world', ' ', 'python', ' ', 'programming']"
   ]
  },
  {
   "cell_type": "code",
   "execution_count": 73,
   "id": "d5cef8d1",
   "metadata": {},
   "outputs": [
    {
     "data": {
      "text/plain": [
       "'hello world python programming'"
      ]
     },
     "execution_count": 73,
     "metadata": {},
     "output_type": "execute_result"
    }
   ],
   "source": [
    "sentence = reduce(lambda x, y: x + y, words)\n",
    "sentence"
   ]
  },
  {
   "cell_type": "code",
   "execution_count": 75,
   "id": "b3ef4bcc",
   "metadata": {},
   "outputs": [],
   "source": [
    "nums = [1, 2, 3, 4, 5, 6, 7, 8, 9, 10, 100, 20, 1, 4]"
   ]
  },
  {
   "cell_type": "code",
   "execution_count": 76,
   "id": "b4cad5d4",
   "metadata": {},
   "outputs": [
    {
     "data": {
      "text/plain": [
       "100"
      ]
     },
     "execution_count": 76,
     "metadata": {},
     "output_type": "execute_result"
    }
   ],
   "source": [
    "maximum = reduce(lambda x, y: x if x > y else y, nums)\n",
    "maximum"
   ]
  },
  {
   "cell_type": "code",
   "execution_count": 77,
   "id": "d2f8edcb",
   "metadata": {},
   "outputs": [
    {
     "data": {
      "text/plain": [
       "100"
      ]
     },
     "execution_count": 77,
     "metadata": {},
     "output_type": "execute_result"
    }
   ],
   "source": [
    "max(nums)"
   ]
  },
  {
   "cell_type": "code",
   "execution_count": null,
   "id": "7c829407",
   "metadata": {},
   "outputs": [],
   "source": []
  }
 ],
 "metadata": {
  "kernelspec": {
   "display_name": "Python 3 (ipykernel)",
   "language": "python",
   "name": "python3"
  },
  "language_info": {
   "codemirror_mode": {
    "name": "ipython",
    "version": 3
   },
   "file_extension": ".py",
   "mimetype": "text/x-python",
   "name": "python",
   "nbconvert_exporter": "python",
   "pygments_lexer": "ipython3",
   "version": "3.11.1"
  }
 },
 "nbformat": 4,
 "nbformat_minor": 5
}
