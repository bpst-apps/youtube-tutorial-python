{
 "cells": [
  {
   "cell_type": "markdown",
   "id": "450aa6d9",
   "metadata": {},
   "source": [
    "## Functions in Python\n",
    "1. Built-in Functions\n",
    "2. User-defined Functions\n",
    "3. Anonymous Functions (Lambda Functions)\n",
    "4. Recursive Functions\n",
    "5. High-order Functions"
   ]
  },
  {
   "cell_type": "markdown",
   "id": "24b5f44c",
   "metadata": {},
   "source": [
    "### Built-in Functions"
   ]
  },
  {
   "cell_type": "code",
   "execution_count": 1,
   "id": "78a840be",
   "metadata": {},
   "outputs": [
    {
     "name": "stdout",
     "output_type": "stream",
     "text": [
      "hey there\n"
     ]
    }
   ],
   "source": [
    "print('hey there')"
   ]
  },
  {
   "cell_type": "code",
   "execution_count": 2,
   "id": "f8943c64",
   "metadata": {},
   "outputs": [
    {
     "data": {
      "text/plain": [
       "9"
      ]
     },
     "execution_count": 2,
     "metadata": {},
     "output_type": "execute_result"
    }
   ],
   "source": [
    "len('hhhhhhhhh')"
   ]
  },
  {
   "cell_type": "code",
   "execution_count": 3,
   "id": "8cb3ce52",
   "metadata": {},
   "outputs": [
    {
     "data": {
      "text/plain": [
       "int"
      ]
     },
     "execution_count": 3,
     "metadata": {},
     "output_type": "execute_result"
    }
   ],
   "source": [
    "type(1)"
   ]
  },
  {
   "cell_type": "code",
   "execution_count": 4,
   "id": "4a31edef",
   "metadata": {},
   "outputs": [],
   "source": [
    "numbers = [1, 2, 3, 4, 5]"
   ]
  },
  {
   "cell_type": "code",
   "execution_count": 5,
   "id": "70b5eac0",
   "metadata": {},
   "outputs": [
    {
     "data": {
      "text/plain": [
       "1"
      ]
     },
     "execution_count": 5,
     "metadata": {},
     "output_type": "execute_result"
    }
   ],
   "source": [
    "min(numbers)"
   ]
  },
  {
   "cell_type": "code",
   "execution_count": 6,
   "id": "73da5c1d",
   "metadata": {},
   "outputs": [
    {
     "data": {
      "text/plain": [
       "5"
      ]
     },
     "execution_count": 6,
     "metadata": {},
     "output_type": "execute_result"
    }
   ],
   "source": [
    "max(numbers)"
   ]
  },
  {
   "cell_type": "code",
   "execution_count": 7,
   "id": "bca7269c",
   "metadata": {},
   "outputs": [
    {
     "data": {
      "text/plain": [
       "15"
      ]
     },
     "execution_count": 7,
     "metadata": {},
     "output_type": "execute_result"
    }
   ],
   "source": [
    "sum(numbers)"
   ]
  },
  {
   "cell_type": "markdown",
   "id": "6c7bb943",
   "metadata": {},
   "source": [
    "### User-defined Functions"
   ]
  },
  {
   "cell_type": "code",
   "execution_count": 8,
   "id": "b1fa7406",
   "metadata": {},
   "outputs": [],
   "source": [
    "def greet(name):\n",
    "    print(f'hello, {name}')"
   ]
  },
  {
   "cell_type": "code",
   "execution_count": 9,
   "id": "caae8c69",
   "metadata": {},
   "outputs": [
    {
     "name": "stdout",
     "output_type": "stream",
     "text": [
      "hello, bhanu\n"
     ]
    }
   ],
   "source": [
    "greet('bhanu')"
   ]
  },
  {
   "cell_type": "code",
   "execution_count": 10,
   "id": "b571a877",
   "metadata": {},
   "outputs": [],
   "source": [
    "def greet(name='bhanu'):\n",
    "    print(f'hello, {name}')"
   ]
  },
  {
   "cell_type": "code",
   "execution_count": 11,
   "id": "2766d8fb",
   "metadata": {},
   "outputs": [
    {
     "name": "stdout",
     "output_type": "stream",
     "text": [
      "hello, bhanu\n"
     ]
    }
   ],
   "source": [
    "greet()"
   ]
  },
  {
   "cell_type": "code",
   "execution_count": 12,
   "id": "b48c9fc8",
   "metadata": {},
   "outputs": [
    {
     "name": "stdout",
     "output_type": "stream",
     "text": [
      "hello, test\n"
     ]
    }
   ],
   "source": [
    "greet(name='test')"
   ]
  },
  {
   "cell_type": "code",
   "execution_count": 13,
   "id": "b8e5b701",
   "metadata": {},
   "outputs": [
    {
     "data": {
      "text/plain": [
       "11"
      ]
     },
     "execution_count": 13,
     "metadata": {},
     "output_type": "execute_result"
    }
   ],
   "source": [
    "def add(a, b):\n",
    "    return a + b\n",
    "\n",
    "result = add(7, 4)\n",
    "result"
   ]
  },
  {
   "cell_type": "code",
   "execution_count": 14,
   "id": "1e5bf723",
   "metadata": {},
   "outputs": [
    {
     "data": {
      "text/plain": [
       "31"
      ]
     },
     "execution_count": 14,
     "metadata": {},
     "output_type": "execute_result"
    }
   ],
   "source": [
    "result = add(17, 14)\n",
    "result"
   ]
  },
  {
   "cell_type": "code",
   "execution_count": 15,
   "id": "e4021afb",
   "metadata": {},
   "outputs": [
    {
     "data": {
      "text/plain": [
       "4.0"
      ]
     },
     "execution_count": 15,
     "metadata": {},
     "output_type": "execute_result"
    }
   ],
   "source": [
    "def find_average(numbers):\n",
    "    return sum(numbers)/len(numbers)\n",
    "\n",
    "\n",
    "nums = [1, 2, 3, 4, 5, 6, 7]\n",
    "average = find_average(nums)\n",
    "average"
   ]
  },
  {
   "cell_type": "code",
   "execution_count": 16,
   "id": "b9e93b6c",
   "metadata": {},
   "outputs": [
    {
     "data": {
      "text/plain": [
       "'HELLO, ALL'"
      ]
     },
     "execution_count": 16,
     "metadata": {},
     "output_type": "execute_result"
    }
   ],
   "source": [
    "def to_uppercase(string):\n",
    "    return string.upper()\n",
    "\n",
    "\n",
    "original_string = 'hello, all'\n",
    "upper_string = to_uppercase(original_string)\n",
    "upper_string"
   ]
  },
  {
   "cell_type": "code",
   "execution_count": 17,
   "id": "2fc4ff2b",
   "metadata": {},
   "outputs": [],
   "source": [
    "def add_all(*args):\n",
    "    return sum(args)"
   ]
  },
  {
   "cell_type": "code",
   "execution_count": 18,
   "id": "d5ced602",
   "metadata": {},
   "outputs": [
    {
     "data": {
      "text/plain": [
       "30"
      ]
     },
     "execution_count": 18,
     "metadata": {},
     "output_type": "execute_result"
    }
   ],
   "source": [
    "result = add_all(1, 3, 5, 6, 7, 8)\n",
    "result"
   ]
  },
  {
   "cell_type": "code",
   "execution_count": 19,
   "id": "4dcb7155",
   "metadata": {},
   "outputs": [],
   "source": [
    "def add_all(*bhanu):\n",
    "    return sum(bhanu)"
   ]
  },
  {
   "cell_type": "code",
   "execution_count": 20,
   "id": "f2e879d2",
   "metadata": {},
   "outputs": [
    {
     "data": {
      "text/plain": [
       "39"
      ]
     },
     "execution_count": 20,
     "metadata": {},
     "output_type": "execute_result"
    }
   ],
   "source": [
    "add_all(1, 3, 5, 6, 7, 8, 9)"
   ]
  },
  {
   "cell_type": "code",
   "execution_count": 21,
   "id": "2cb0e19c",
   "metadata": {},
   "outputs": [],
   "source": [
    "def create_dict(**kwargs):\n",
    "    return kwargs"
   ]
  },
  {
   "cell_type": "code",
   "execution_count": 22,
   "id": "ca67dfc9",
   "metadata": {},
   "outputs": [
    {
     "data": {
      "text/plain": [
       "{'a': 1, 'b': 2, 'c': 3, 'd': 4}"
      ]
     },
     "execution_count": 22,
     "metadata": {},
     "output_type": "execute_result"
    }
   ],
   "source": [
    "my_dict = create_dict(a=1, b=2, c=3, d=4)\n",
    "my_dict"
   ]
  },
  {
   "cell_type": "code",
   "execution_count": 23,
   "id": "3265bc29",
   "metadata": {},
   "outputs": [],
   "source": [
    "def create_student_record(name, age, **kwargs):\n",
    "    record = {\n",
    "        'name': name,\n",
    "        'age': age,\n",
    "        'grades': kwargs\n",
    "    }\n",
    "    return record"
   ]
  },
  {
   "cell_type": "code",
   "execution_count": 24,
   "id": "51283ac7",
   "metadata": {},
   "outputs": [
    {
     "data": {
      "text/plain": [
       "{'name': 'Tom H',\n",
       " 'age': 25,\n",
       " 'grades': {'math': 90, 'english': 95, 'science': 89}}"
      ]
     },
     "execution_count": 24,
     "metadata": {},
     "output_type": "execute_result"
    }
   ],
   "source": [
    "student_record = create_student_record(\n",
    "    'Tom H',\n",
    "    25,\n",
    "    math=90,\n",
    "    english=95,\n",
    "    science=89\n",
    ")\n",
    "student_record"
   ]
  },
  {
   "cell_type": "code",
   "execution_count": 25,
   "id": "a3aafef7",
   "metadata": {},
   "outputs": [
    {
     "data": {
      "text/plain": [
       "{'name': 'John C', 'age': 30, 'grades': {'physics': 90, 'chemistry': 95}}"
      ]
     },
     "execution_count": 25,
     "metadata": {},
     "output_type": "execute_result"
    }
   ],
   "source": [
    "student_record = create_student_record(\n",
    "    'John C',\n",
    "    30,\n",
    "    physics=90,\n",
    "    chemistry=95\n",
    ")\n",
    "student_record"
   ]
  },
  {
   "cell_type": "markdown",
   "id": "b2ddbfd7",
   "metadata": {},
   "source": [
    "### Anonymous Functions (Lambda Functions)"
   ]
  },
  {
   "cell_type": "code",
   "execution_count": 26,
   "id": "114b8816",
   "metadata": {},
   "outputs": [],
   "source": [
    "# Syntax\n",
    "# store_name = lambda <parameter>: <function_body>"
   ]
  },
  {
   "cell_type": "code",
   "execution_count": 27,
   "id": "5bad3feb",
   "metadata": {},
   "outputs": [],
   "source": [
    "def add(x, y):\n",
    "    return x + y"
   ]
  },
  {
   "cell_type": "code",
   "execution_count": 28,
   "id": "ee1c4156",
   "metadata": {},
   "outputs": [],
   "source": [
    "add = lambda x, y: x + y"
   ]
  },
  {
   "cell_type": "code",
   "execution_count": 29,
   "id": "a0f11227",
   "metadata": {},
   "outputs": [
    {
     "data": {
      "text/plain": [
       "3"
      ]
     },
     "execution_count": 29,
     "metadata": {},
     "output_type": "execute_result"
    }
   ],
   "source": [
    "add(1,2)"
   ]
  },
  {
   "cell_type": "code",
   "execution_count": 30,
   "id": "c9e34073",
   "metadata": {},
   "outputs": [
    {
     "data": {
      "text/plain": [
       "25"
      ]
     },
     "execution_count": 30,
     "metadata": {},
     "output_type": "execute_result"
    }
   ],
   "source": [
    "square = lambda x: x ** 2\n",
    "square(5)"
   ]
  },
  {
   "cell_type": "code",
   "execution_count": 32,
   "id": "a0582a5a",
   "metadata": {},
   "outputs": [
    {
     "data": {
      "text/plain": [
       "30"
      ]
     },
     "execution_count": 32,
     "metadata": {},
     "output_type": "execute_result"
    }
   ],
   "source": [
    "multipy = lambda x, y: x * y\n",
    "multipy(5, 6)"
   ]
  },
  {
   "cell_type": "code",
   "execution_count": 33,
   "id": "4f546e26",
   "metadata": {},
   "outputs": [
    {
     "data": {
      "text/plain": [
       "['HELLO', 'THERE']"
      ]
     },
     "execution_count": 33,
     "metadata": {},
     "output_type": "execute_result"
    }
   ],
   "source": [
    "['hello', 'there'] # input\n",
    "['HELLO', 'THERE'] # output"
   ]
  },
  {
   "cell_type": "code",
   "execution_count": 34,
   "id": "1bcc0d22",
   "metadata": {},
   "outputs": [
    {
     "data": {
      "text/plain": [
       "['HELLO', 'THERE']"
      ]
     },
     "execution_count": 34,
     "metadata": {},
     "output_type": "execute_result"
    }
   ],
   "source": [
    "make_upper = lambda strings: [string.upper() for string in strings]\n",
    "original_string = ['hello', 'there']\n",
    "make_upper(original_string)"
   ]
  },
  {
   "cell_type": "markdown",
   "id": "ffeb68b0",
   "metadata": {},
   "source": [
    "### Recursive Functions\n",
    "* base case defined"
   ]
  },
  {
   "cell_type": "code",
   "execution_count": null,
   "id": "493545cd",
   "metadata": {},
   "outputs": [],
   "source": [
    "# 5! = 5 x 4 x 3 x 2 x 1"
   ]
  },
  {
   "cell_type": "code",
   "execution_count": null,
   "id": "6aeccb27",
   "metadata": {},
   "outputs": [],
   "source": [
    "# n! = n x (n - 1) x (n - 2) x ... x 1"
   ]
  },
  {
   "cell_type": "code",
   "execution_count": 51,
   "id": "579e4a8c",
   "metadata": {},
   "outputs": [],
   "source": [
    "def factorial(n):\n",
    "    if n == 1:\n",
    "        return 1\n",
    "    print(n)\n",
    "    return n * factorial(n - 1)"
   ]
  },
  {
   "cell_type": "code",
   "execution_count": 52,
   "id": "b67e370f",
   "metadata": {},
   "outputs": [
    {
     "name": "stdout",
     "output_type": "stream",
     "text": [
      "5\n",
      "4\n",
      "3\n",
      "2\n"
     ]
    },
    {
     "data": {
      "text/plain": [
       "120"
      ]
     },
     "execution_count": 52,
     "metadata": {},
     "output_type": "execute_result"
    }
   ],
   "source": [
    "factorial(5)"
   ]
  },
  {
   "cell_type": "markdown",
   "id": "51c5a087",
   "metadata": {},
   "source": [
    "### High-order Functions"
   ]
  },
  {
   "cell_type": "code",
   "execution_count": 53,
   "id": "ee33c962",
   "metadata": {},
   "outputs": [],
   "source": [
    "def apply_twice(func, arg):\n",
    "    return func(func(arg))\n",
    "\n",
    "def add_ten(x):\n",
    "    return x + 10"
   ]
  },
  {
   "cell_type": "code",
   "execution_count": 54,
   "id": "a202e890",
   "metadata": {},
   "outputs": [
    {
     "data": {
      "text/plain": [
       "30"
      ]
     },
     "execution_count": 54,
     "metadata": {},
     "output_type": "execute_result"
    }
   ],
   "source": [
    "apply_twice(add_ten, 10)"
   ]
  },
  {
   "cell_type": "code",
   "execution_count": 55,
   "id": "ca9a87a3",
   "metadata": {},
   "outputs": [],
   "source": [
    "def apply_function(func, num):\n",
    "    return func(num)"
   ]
  },
  {
   "cell_type": "code",
   "execution_count": 56,
   "id": "7a1f6a98",
   "metadata": {},
   "outputs": [
    {
     "data": {
      "text/plain": [
       "20"
      ]
     },
     "execution_count": 56,
     "metadata": {},
     "output_type": "execute_result"
    }
   ],
   "source": [
    "apply_function(add_ten, 10)"
   ]
  },
  {
   "cell_type": "code",
   "execution_count": 57,
   "id": "45904e8c",
   "metadata": {},
   "outputs": [
    {
     "data": {
      "text/plain": [
       "[1, 4, 9, 16, 25]"
      ]
     },
     "execution_count": 57,
     "metadata": {},
     "output_type": "execute_result"
    }
   ],
   "source": [
    "def apply_to_list(nums, func):\n",
    "    return [func(num) for num in nums]\n",
    "\n",
    "def square(x):\n",
    "    return x ** 2\n",
    "\n",
    "nums = [1, 2, 3, 4, 5]\n",
    "squared_nums = apply_to_list(nums, square)\n",
    "squared_nums"
   ]
  },
  {
   "cell_type": "markdown",
   "id": "ca46c9bd",
   "metadata": {},
   "source": [
    "#### `map()` Function"
   ]
  },
  {
   "cell_type": "code",
   "execution_count": 58,
   "id": "9e043792",
   "metadata": {},
   "outputs": [
    {
     "data": {
      "text/plain": [
       "[1, 2, 3, 4, 5]"
      ]
     },
     "execution_count": 58,
     "metadata": {},
     "output_type": "execute_result"
    }
   ],
   "source": [
    "nums"
   ]
  },
  {
   "cell_type": "code",
   "execution_count": 60,
   "id": "63b0b49d",
   "metadata": {},
   "outputs": [
    {
     "data": {
      "text/plain": [
       "[1, 4, 9, 16, 25]"
      ]
     },
     "execution_count": 60,
     "metadata": {},
     "output_type": "execute_result"
    }
   ],
   "source": [
    "squared_nums = map(square, nums)\n",
    "list(squared_nums)"
   ]
  },
  {
   "cell_type": "code",
   "execution_count": 61,
   "id": "c130852a",
   "metadata": {},
   "outputs": [
    {
     "data": {
      "text/plain": [
       "[1, 4, 9, 16, 25]"
      ]
     },
     "execution_count": 61,
     "metadata": {},
     "output_type": "execute_result"
    }
   ],
   "source": [
    "squared_nums = map(lambda x: x ** 2, nums)\n",
    "list(squared_nums)"
   ]
  },
  {
   "cell_type": "code",
   "execution_count": 62,
   "id": "0c0488de",
   "metadata": {},
   "outputs": [
    {
     "data": {
      "text/plain": [
       "['HELLO', 'THERE']"
      ]
     },
     "execution_count": 62,
     "metadata": {},
     "output_type": "execute_result"
    }
   ],
   "source": [
    "words = ['hello', 'there']\n",
    "uppercase_words = map(str.upper, words)\n",
    "list(uppercase_words)"
   ]
  },
  {
   "cell_type": "code",
   "execution_count": 63,
   "id": "cba3801c",
   "metadata": {},
   "outputs": [
    {
     "data": {
      "text/plain": [
       "[5, 7, 9]"
      ]
     },
     "execution_count": 63,
     "metadata": {},
     "output_type": "execute_result"
    }
   ],
   "source": [
    "nums_1 = [1, 2, 3]\n",
    "nums_2 = [4, 5, 6]\n",
    "\n",
    "result = map(lambda x, y: x + y, nums_1, nums_2)\n",
    "list(result)"
   ]
  },
  {
   "cell_type": "markdown",
   "id": "b6151159",
   "metadata": {},
   "source": [
    "#### `filter()` Function"
   ]
  },
  {
   "cell_type": "code",
   "execution_count": 64,
   "id": "855bda23",
   "metadata": {},
   "outputs": [
    {
     "data": {
      "text/plain": [
       "[2, 4, 6, 8, 10]"
      ]
     },
     "execution_count": 64,
     "metadata": {},
     "output_type": "execute_result"
    }
   ],
   "source": [
    "nums = [1, 2, 3, 4, 5, 6, 7 , 8 , 9, 10]\n",
    "even_nums = filter(lambda x: x%2 == 0, nums)\n",
    "list(even_nums)"
   ]
  },
  {
   "cell_type": "code",
   "execution_count": 66,
   "id": "561661e4",
   "metadata": {},
   "outputs": [
    {
     "data": {
      "text/plain": [
       "['apple', 'Avocado']"
      ]
     },
     "execution_count": 66,
     "metadata": {},
     "output_type": "execute_result"
    }
   ],
   "source": [
    "fruits = ['apple', 'banana', 'orange', 'Avocado', 'mango']\n",
    "a_fruits = filter(lambda x: x[0] in ['a', 'A'], fruits)\n",
    "list(a_fruits)"
   ]
  },
  {
   "cell_type": "code",
   "execution_count": 67,
   "id": "a9883385",
   "metadata": {},
   "outputs": [
    {
     "data": {
      "text/plain": [
       "['python', 'programming']"
      ]
     },
     "execution_count": 67,
     "metadata": {},
     "output_type": "execute_result"
    }
   ],
   "source": [
    "# filter condition\n",
    "def is_long_word(word):\n",
    "    return len(word) > 5\n",
    "\n",
    "words = ['hello', 'world', 'python', 'programming']\n",
    "long_words = filter(is_long_word, words)\n",
    "list(long_words)"
   ]
  },
  {
   "cell_type": "markdown",
   "id": "b4569562",
   "metadata": {},
   "source": [
    "#### `reduce()` Function"
   ]
  },
  {
   "cell_type": "code",
   "execution_count": 68,
   "id": "6a03c976",
   "metadata": {},
   "outputs": [
    {
     "data": {
      "text/plain": [
       "[1, 2, 3, 4, 5, 6, 7, 8, 9, 10]"
      ]
     },
     "execution_count": 68,
     "metadata": {},
     "output_type": "execute_result"
    }
   ],
   "source": [
    "nums"
   ]
  },
  {
   "cell_type": "code",
   "execution_count": 70,
   "id": "f4a405ab",
   "metadata": {},
   "outputs": [
    {
     "data": {
      "text/plain": [
       "120"
      ]
     },
     "execution_count": 70,
     "metadata": {},
     "output_type": "execute_result"
    }
   ],
   "source": [
    "from functools import reduce\n",
    "\n",
    "nums = [1, 2, 3, 4, 5]\n",
    "product = reduce(lambda x, y: x * y, nums)\n",
    "product"
   ]
  },
  {
   "cell_type": "code",
   "execution_count": 72,
   "id": "de899f4d",
   "metadata": {},
   "outputs": [],
   "source": [
    "words = ['hello', ' ', 'world', ' ', 'python', ' ', 'programming']"
   ]
  },
  {
   "cell_type": "code",
   "execution_count": 73,
   "id": "baf0c139",
   "metadata": {},
   "outputs": [
    {
     "data": {
      "text/plain": [
       "'hello world python programming'"
      ]
     },
     "execution_count": 73,
     "metadata": {},
     "output_type": "execute_result"
    }
   ],
   "source": [
    "sentence = reduce(lambda x, y: x + y, words)\n",
    "sentence"
   ]
  },
  {
   "cell_type": "code",
   "execution_count": 75,
   "id": "4fcc7e39",
   "metadata": {},
   "outputs": [],
   "source": [
    "nums = [1, 2, 3, 4, 5, 6, 7, 8, 9, 10, 100, 20, 1, 4]"
   ]
  },
  {
   "cell_type": "code",
   "execution_count": 76,
   "id": "6ab35dd2",
   "metadata": {},
   "outputs": [
    {
     "data": {
      "text/plain": [
       "100"
      ]
     },
     "execution_count": 76,
     "metadata": {},
     "output_type": "execute_result"
    }
   ],
   "source": [
    "maximum = reduce(lambda x, y: x if x > y else y, nums)\n",
    "maximum"
   ]
  },
  {
   "cell_type": "code",
   "execution_count": 77,
   "id": "d0521f06",
   "metadata": {},
   "outputs": [
    {
     "data": {
      "text/plain": [
       "100"
      ]
     },
     "execution_count": 77,
     "metadata": {},
     "output_type": "execute_result"
    }
   ],
   "source": [
    "max(nums)"
   ]
  }
 ],
 "metadata": {
  "kernelspec": {
   "display_name": "Python 3 (ipykernel)",
   "language": "python",
   "name": "python3"
  },
  "language_info": {
   "codemirror_mode": {
    "name": "ipython",
    "version": 3
   },
   "file_extension": ".py",
   "mimetype": "text/x-python",
   "name": "python",
   "nbconvert_exporter": "python",
   "pygments_lexer": "ipython3",
   "version": "3.11.1"
  }
 },
 "nbformat": 4,
 "nbformat_minor": 5
}
