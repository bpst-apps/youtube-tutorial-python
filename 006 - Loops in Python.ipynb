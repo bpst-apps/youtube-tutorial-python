{
 "cells": [
  {
   "cell_type": "markdown",
   "id": "97f3e91e",
   "metadata": {},
   "source": [
    "### `for` Loop"
   ]
  },
  {
   "cell_type": "code",
   "execution_count": 1,
   "id": "8d1c8a4b",
   "metadata": {},
   "outputs": [
    {
     "name": "stdout",
     "output_type": "stream",
     "text": [
      "apple\n",
      "banana\n",
      "orange\n",
      "avocado\n",
      "mango\n"
     ]
    }
   ],
   "source": [
    "fruits = ['apple', 'banana', 'orange', 'avocado', 'mango']\n",
    "for fruit in fruits:\n",
    "    print(fruit)"
   ]
  },
  {
   "cell_type": "code",
   "execution_count": 2,
   "id": "1c87d312",
   "metadata": {},
   "outputs": [
    {
     "name": "stdout",
     "output_type": "stream",
     "text": [
      "Index: 0, Fruit: apple\n",
      "Index: 1, Fruit: banana\n",
      "Index: 2, Fruit: orange\n",
      "Index: 3, Fruit: avocado\n",
      "Index: 4, Fruit: mango\n"
     ]
    }
   ],
   "source": [
    "for index, fruit in enumerate(fruits):\n",
    "    print(f'Index: {index}, Fruit: {fruit}')"
   ]
  },
  {
   "cell_type": "markdown",
   "id": "7ef3af2a",
   "metadata": {},
   "source": [
    "### `while` Loop"
   ]
  },
  {
   "cell_type": "code",
   "execution_count": 3,
   "id": "f0750ab4",
   "metadata": {},
   "outputs": [
    {
     "name": "stdout",
     "output_type": "stream",
     "text": [
      "1\n",
      "2\n",
      "3\n",
      "4\n",
      "5\n",
      "6\n",
      "7\n",
      "8\n",
      "9\n",
      "10\n"
     ]
    }
   ],
   "source": [
    "counter = 1\n",
    "while counter < 11:\n",
    "    print(counter)\n",
    "    counter += 1"
   ]
  },
  {
   "cell_type": "markdown",
   "id": "c1f52272",
   "metadata": {},
   "source": [
    "### `nested loop`"
   ]
  },
  {
   "cell_type": "code",
   "execution_count": 4,
   "id": "5cd61295",
   "metadata": {},
   "outputs": [
    {
     "name": "stdout",
     "output_type": "stream",
     "text": [
      "(0, 0)\n",
      "(0, 1)\n",
      "(0, 2)\n",
      "(0, 3)\n",
      "(0, 4)\n",
      "(1, 0)\n",
      "(1, 1)\n",
      "(1, 2)\n",
      "(1, 3)\n",
      "(1, 4)\n",
      "(2, 0)\n",
      "(2, 1)\n",
      "(2, 2)\n",
      "(2, 3)\n",
      "(2, 4)\n",
      "(3, 0)\n",
      "(3, 1)\n",
      "(3, 2)\n",
      "(3, 3)\n",
      "(3, 4)\n",
      "(4, 0)\n",
      "(4, 1)\n",
      "(4, 2)\n",
      "(4, 3)\n",
      "(4, 4)\n"
     ]
    }
   ],
   "source": [
    "for x in range(5):\n",
    "    for y in range(5):\n",
    "        print(f'({x}, {y})')"
   ]
  },
  {
   "cell_type": "markdown",
   "id": "d29f0d23",
   "metadata": {},
   "source": [
    "### `for-else` Loop"
   ]
  },
  {
   "cell_type": "code",
   "execution_count": 5,
   "id": "930a5934",
   "metadata": {},
   "outputs": [
    {
     "name": "stdout",
     "output_type": "stream",
     "text": [
      "0\n",
      "1\n",
      "2\n",
      "3\n",
      "4\n",
      "5\n",
      "6\n",
      "7\n",
      "8\n",
      "9\n",
      "loop ends here\n"
     ]
    }
   ],
   "source": [
    "for x in range(10):\n",
    "    print(x)\n",
    "else:\n",
    "    print('loop ends here')"
   ]
  },
  {
   "cell_type": "markdown",
   "id": "75d151b2",
   "metadata": {},
   "source": [
    "### `while-else` Loop"
   ]
  },
  {
   "cell_type": "code",
   "execution_count": 6,
   "id": "409c63cd",
   "metadata": {},
   "outputs": [
    {
     "name": "stdout",
     "output_type": "stream",
     "text": [
      "1\n",
      "2\n",
      "3\n",
      "4\n",
      "5\n",
      "6\n",
      "7\n",
      "8\n",
      "9\n",
      "10\n",
      "while loop ends here\n"
     ]
    }
   ],
   "source": [
    "counter = 1\n",
    "while counter < 11:\n",
    "    print(counter)\n",
    "    counter += 1\n",
    "else:\n",
    "    print('while loop ends here')"
   ]
  },
  {
   "cell_type": "markdown",
   "id": "e2700e58",
   "metadata": {},
   "source": [
    "### statements in loop\n",
    "* `break`: used to exit a loop early\n",
    "* `continue`: used to skip an iteration of the loop"
   ]
  },
  {
   "cell_type": "code",
   "execution_count": 7,
   "id": "260d89d5",
   "metadata": {},
   "outputs": [
    {
     "name": "stdout",
     "output_type": "stream",
     "text": [
      "current letter: p\n",
      "current letter: y\n",
      "current letter: t\n"
     ]
    }
   ],
   "source": [
    "# break statement\n",
    "for letter in 'python':\n",
    "    if letter == 'h':\n",
    "        break\n",
    "    print(f'current letter: {letter}')"
   ]
  },
  {
   "cell_type": "code",
   "execution_count": 9,
   "id": "789ad3a1",
   "metadata": {},
   "outputs": [
    {
     "name": "stdout",
     "output_type": "stream",
     "text": [
      "current letter: p\n",
      "current letter: y\n",
      "current letter: t\n",
      "3\n",
      "current letter: o\n",
      "current letter: n\n"
     ]
    }
   ],
   "source": [
    "# continue statement\n",
    "for index, letter in enumerate('python'):\n",
    "    if letter == 'h':\n",
    "        print(index)\n",
    "        continue\n",
    "    print(f'current letter: {letter}')"
   ]
  }
 ],
 "metadata": {
  "kernelspec": {
   "display_name": "Python 3 (ipykernel)",
   "language": "python",
   "name": "python3"
  },
  "language_info": {
   "codemirror_mode": {
    "name": "ipython",
    "version": 3
   },
   "file_extension": ".py",
   "mimetype": "text/x-python",
   "name": "python",
   "nbconvert_exporter": "python",
   "pygments_lexer": "ipython3",
   "version": "3.11.1"
  }
 },
 "nbformat": 4,
 "nbformat_minor": 5
}
