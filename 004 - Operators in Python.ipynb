{
 "cells": [
  {
   "cell_type": "markdown",
   "id": "5459f363",
   "metadata": {},
   "source": [
    "## Operators in Python\n",
    "* logical\n",
    "* conditioal"
   ]
  },
  {
   "cell_type": "code",
   "execution_count": 1,
   "id": "f58bc02e",
   "metadata": {},
   "outputs": [
    {
     "name": "stdout",
     "output_type": "stream",
     "text": [
      "x is positive\n"
     ]
    }
   ],
   "source": [
    "x = 10\n",
    "if x > 0:\n",
    "    print('x is positive')"
   ]
  },
  {
   "cell_type": "code",
   "execution_count": 2,
   "id": "74efd23c",
   "metadata": {},
   "outputs": [],
   "source": [
    "# syntax\n",
    "\n",
    "# if condition1 condition2 condition3 ....:\n",
    "#     # execute some code block"
   ]
  },
  {
   "cell_type": "markdown",
   "id": "a01e09c3",
   "metadata": {},
   "source": [
    "### Logical Operators\n",
    "* and - It checks whether two conditions are both true\n",
    "* or - It checks whether at least one of the condition is true\n",
    "* not - It inverts the truth value of the condition"
   ]
  },
  {
   "cell_type": "code",
   "execution_count": 6,
   "id": "a0479cbb",
   "metadata": {},
   "outputs": [
    {
     "name": "stdout",
     "output_type": "stream",
     "text": [
      "some issue\n"
     ]
    }
   ],
   "source": [
    "# and logical operator\n",
    "\n",
    "x = 10\n",
    "if x < 0 and x > 100:\n",
    "    print('x is between 0 and 100')\n",
    "else:\n",
    "    print('some issue')"
   ]
  },
  {
   "cell_type": "code",
   "execution_count": 7,
   "id": "129caabe",
   "metadata": {},
   "outputs": [
    {
     "name": "stdout",
     "output_type": "stream",
     "text": [
      "x is between 0 and 100\n"
     ]
    }
   ],
   "source": [
    "x = 10\n",
    "if x > 0 and x < 100:\n",
    "    print('x is between 0 and 100')\n",
    "else:\n",
    "    print('some issue')"
   ]
  },
  {
   "cell_type": "code",
   "execution_count": 9,
   "id": "79c9e4f3",
   "metadata": {},
   "outputs": [
    {
     "name": "stdout",
     "output_type": "stream",
     "text": [
      "x is between 0 and 100, y is between 100 and 250\n"
     ]
    }
   ],
   "source": [
    "y = 200\n",
    "\n",
    "if (x > 0 and x < 100) and (y > 100 and y < 250):\n",
    "    print('x is between 0 and 100, y is between 100 and 250')\n",
    "else:\n",
    "    print('some issue')"
   ]
  },
  {
   "cell_type": "code",
   "execution_count": 10,
   "id": "785e37e0",
   "metadata": {},
   "outputs": [
    {
     "name": "stdout",
     "output_type": "stream",
     "text": [
      "some issue\n"
     ]
    }
   ],
   "source": [
    "y = 90\n",
    "\n",
    "if (x > 0 and x < 100) and (y > 100 and y < 250):\n",
    "    print('x is between 0 and 100, y is between 100 and 250')\n",
    "else:\n",
    "    print('some issue')"
   ]
  },
  {
   "cell_type": "markdown",
   "id": "9d198fd2",
   "metadata": {},
   "source": [
    "### OR Logical Operator"
   ]
  },
  {
   "cell_type": "code",
   "execution_count": 11,
   "id": "b9942a12",
   "metadata": {},
   "outputs": [
    {
     "name": "stdout",
     "output_type": "stream",
     "text": [
      "some issue\n"
     ]
    }
   ],
   "source": [
    "x = 10\n",
    "if x < 0 or x > 100:\n",
    "    print('x is between 0 and 100')\n",
    "else:\n",
    "    print('some issue')"
   ]
  },
  {
   "cell_type": "code",
   "execution_count": 12,
   "id": "09502bd7",
   "metadata": {},
   "outputs": [
    {
     "name": "stdout",
     "output_type": "stream",
     "text": [
      "x is between 0 and 100\n"
     ]
    }
   ],
   "source": [
    "x = 110\n",
    "if x > 0 or x < 100:\n",
    "    print('x is between 0 and 100')\n",
    "else:\n",
    "    print('some issue')"
   ]
  },
  {
   "cell_type": "markdown",
   "id": "b54638e4",
   "metadata": {},
   "source": [
    "## Not Logical Operator"
   ]
  },
  {
   "cell_type": "code",
   "execution_count": 13,
   "id": "65f96288",
   "metadata": {},
   "outputs": [
    {
     "name": "stdout",
     "output_type": "stream",
     "text": [
      "x is zero\n"
     ]
    }
   ],
   "source": [
    "x = 0\n",
    "\n",
    "if x == 0:\n",
    "    print('x is zero')"
   ]
  },
  {
   "cell_type": "code",
   "execution_count": 15,
   "id": "bc889646",
   "metadata": {},
   "outputs": [
    {
     "name": "stdout",
     "output_type": "stream",
     "text": [
      "x is not zero\n"
     ]
    }
   ],
   "source": [
    "x = 0\n",
    "\n",
    "if not x == 0:\n",
    "    print('x is zero')\n",
    "else:\n",
    "    print('x is not zero')"
   ]
  },
  {
   "cell_type": "markdown",
   "id": "4410003a",
   "metadata": {},
   "source": [
    "## Conditional Operators\n",
    "* `==` - equal to\n",
    "* `!=` - not equal to\n",
    "* `>` - greater than\n",
    "* `>=` - greater than or equal to\n",
    "* `<` - less than\n",
    "* `<=` - less than or equal to"
   ]
  },
  {
   "cell_type": "code",
   "execution_count": 16,
   "id": "7d3b1eea",
   "metadata": {},
   "outputs": [
    {
     "name": "stdout",
     "output_type": "stream",
     "text": [
      "x is equal to 20\n"
     ]
    }
   ],
   "source": [
    "x = 20\n",
    "\n",
    "if x == 20:\n",
    "    print('x is equal to 20')"
   ]
  },
  {
   "cell_type": "code",
   "execution_count": 19,
   "id": "3f86c28f",
   "metadata": {},
   "outputs": [
    {
     "name": "stdout",
     "output_type": "stream",
     "text": [
      "x is not equal to 20\n"
     ]
    }
   ],
   "source": [
    "x = 20\n",
    "\n",
    "if x != 20:\n",
    "    pass\n",
    "else:\n",
    "    print('x is not equal to 20')"
   ]
  },
  {
   "cell_type": "code",
   "execution_count": 20,
   "id": "7ade6be4",
   "metadata": {},
   "outputs": [
    {
     "name": "stdout",
     "output_type": "stream",
     "text": [
      "x is not equal to 20\n"
     ]
    }
   ],
   "source": [
    "x = 30\n",
    "\n",
    "if x != 20:\n",
    "    print('x is not equal to 20')"
   ]
  },
  {
   "cell_type": "code",
   "execution_count": 23,
   "id": "5b03bf02",
   "metadata": {},
   "outputs": [
    {
     "name": "stdout",
     "output_type": "stream",
     "text": [
      "x is greater than 40\n"
     ]
    }
   ],
   "source": [
    "x = 50\n",
    "\n",
    "if x > 40:\n",
    "    print('x is greater than 40')"
   ]
  },
  {
   "cell_type": "code",
   "execution_count": 24,
   "id": "ae1da029",
   "metadata": {},
   "outputs": [
    {
     "name": "stdout",
     "output_type": "stream",
     "text": [
      "x not greater than 50\n"
     ]
    }
   ],
   "source": [
    "x = 50\n",
    "\n",
    "if x > 50:\n",
    "    print('x is greater than 50')\n",
    "else:\n",
    "    print('x not greater than 50')"
   ]
  },
  {
   "cell_type": "code",
   "execution_count": 26,
   "id": "ccda41d5",
   "metadata": {},
   "outputs": [
    {
     "name": "stdout",
     "output_type": "stream",
     "text": [
      "x is greater than or equal 50\n"
     ]
    }
   ],
   "source": [
    "x = 50\n",
    "\n",
    "if x >= 50:\n",
    "    print('x is greater than or equal 50')\n",
    "else:\n",
    "    print('x not greater than 50')"
   ]
  },
  {
   "cell_type": "code",
   "execution_count": 27,
   "id": "bff60544",
   "metadata": {},
   "outputs": [
    {
     "name": "stdout",
     "output_type": "stream",
     "text": [
      "x is less than 40\n"
     ]
    }
   ],
   "source": [
    "x = 30\n",
    "\n",
    "if x < 40:\n",
    "    print('x is less than 40')"
   ]
  },
  {
   "cell_type": "code",
   "execution_count": 28,
   "id": "007de653",
   "metadata": {},
   "outputs": [
    {
     "name": "stdout",
     "output_type": "stream",
     "text": [
      "x is not less than 30\n"
     ]
    }
   ],
   "source": [
    "x = 30\n",
    "\n",
    "if x < 30:\n",
    "    print('x is less than 30')\n",
    "else:\n",
    "    print('x is not less than 30')"
   ]
  },
  {
   "cell_type": "code",
   "execution_count": 29,
   "id": "8f302b45",
   "metadata": {},
   "outputs": [
    {
     "name": "stdout",
     "output_type": "stream",
     "text": [
      "x is less than equal to 30\n"
     ]
    }
   ],
   "source": [
    "x = 30\n",
    "\n",
    "if x <= 30:\n",
    "    print('x is less than equal to 30')\n",
    "else:\n",
    "    print('x is not less than 30')"
   ]
  },
  {
   "cell_type": "markdown",
   "id": "972e7708",
   "metadata": {},
   "source": [
    "## Real World Scenarios\n",
    "1. checking is a user is authorized\n",
    "2. checking if a temprature is within a certain range\n",
    "3. checking if an item is in stock\n",
    "4. checking if a customer is eligible for a discount"
   ]
  },
  {
   "cell_type": "code",
   "execution_count": 35,
   "id": "c44aca84",
   "metadata": {},
   "outputs": [
    {
     "name": "stdout",
     "output_type": "stream",
     "text": [
      "access granted\n"
     ]
    }
   ],
   "source": [
    "username = 'admin'\n",
    "password = 'admin123'\n",
    "\n",
    "if(username == 'admin' and password == 'admin123') \\\n",
    "    or (username == 'guest' and password == 'guest123'):\n",
    "    print('access granted')\n",
    "else:\n",
    "    print('access denied')"
   ]
  },
  {
   "cell_type": "code",
   "execution_count": 36,
   "id": "1577986e",
   "metadata": {},
   "outputs": [
    {
     "name": "stdout",
     "output_type": "stream",
     "text": [
      "Temperature is within acceptable range\n"
     ]
    }
   ],
   "source": [
    "temperature = 20\n",
    "\n",
    "if temperature >= 10 and temperature <= 30:\n",
    "    print('Temperature is within acceptable range')\n",
    "else:\n",
    "    print('Temperature is outside acceptable range')"
   ]
  },
  {
   "cell_type": "code",
   "execution_count": 37,
   "id": "379958b4",
   "metadata": {},
   "outputs": [
    {
     "name": "stdout",
     "output_type": "stream",
     "text": [
      "Iteam is available for purchase\n"
     ]
    }
   ],
   "source": [
    "item = 'book'\n",
    "quantity = 10\n",
    "\n",
    "if(item == 'book' and quantity > 0) or (item == 'ebook'):\n",
    "    print('Iteam is available for purchase')\n",
    "else:\n",
    "    print('Iteam is not available for purchase')"
   ]
  },
  {
   "cell_type": "code",
   "execution_count": 38,
   "id": "48f4f63a",
   "metadata": {},
   "outputs": [
    {
     "name": "stdout",
     "output_type": "stream",
     "text": [
      "customer is eligible for a discount\n"
     ]
    }
   ],
   "source": [
    "customer_type = 'premium'\n",
    "purchase_amount = 250\n",
    "\n",
    "if (customer_type == 'premium' and purchase_amount > 100) \\\n",
    " and not (customer_type == 'guest'):\n",
    "    print('customer is eligible for a discount')\n",
    "else:\n",
    "    print('customer is not eligible for a discount')"
   ]
  }
 ],
 "metadata": {
  "kernelspec": {
   "display_name": "Python 3 (ipykernel)",
   "language": "python",
   "name": "python3"
  },
  "language_info": {
   "codemirror_mode": {
    "name": "ipython",
    "version": 3
   },
   "file_extension": ".py",
   "mimetype": "text/x-python",
   "name": "python",
   "nbconvert_exporter": "python",
   "pygments_lexer": "ipython3",
   "version": "3.11.1"
  }
 },
 "nbformat": 4,
 "nbformat_minor": 5
}
